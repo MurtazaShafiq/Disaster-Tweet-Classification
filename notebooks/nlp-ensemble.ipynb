{
 "cells": [
  {
   "cell_type": "markdown",
   "metadata": {},
   "source": [
    "# Final Project - Ensemble NLP for Disaster Tweets\n",
    "#### Team: Mayank Bambal, Muhammad Murtaza Shafiq\n",
    "\n",
    "This project aims to build an effective machine learning model to predict whether a tweet is about a real disaster or not. The task was part of a Kaggle competition, and the goal was to leverage Natural Language Processing (NLP) techniques—especially transformer-based models—to classify tweets accurately during crises."
   ]
  },
  {
   "cell_type": "markdown",
   "metadata": {},
   "source": [
    "## 1. Data Import and Exploratory Data Analysis\n",
    "\n",
    "### Library Imports\r\n",
    "The code begins by importing essential libraries for data manipulation, visualization, and natural language processing:"
   ]
  },
  {
   "cell_type": "code",
   "execution_count": null,
   "metadata": {},
   "outputs": [],
   "source": [
    "# Import necessary libraries for data manipulation and processing\n",
    "import numpy as np\n",
    "import pandas as pd\n",
    "import re\n",
    "import os\n",
    "import tensorflow as tf\n",
    "import keras as keras\n",
    "import keras_nlp\n",
    "import matplotlib.pyplot as plt\n",
    "import seaborn as sns\n",
    "from sklearn.metrics import ConfusionMatrixDisplay, confusion_matrix"
   ]
  },
  {
   "cell_type": "markdown",
   "metadata": {},
   "source": [
    "### Data Loading\r\n",
    "We load the training and test datasets from Kaggle's \"Natural Language Processing with Disaster Tweets\" competition:"
   ]
  },
  {
   "cell_type": "code",
   "execution_count": 58,
   "metadata": {
    "_cell_guid": "b1076dfc-b9ad-4769-8c92-a6c4dae69d19",
    "_uuid": "8f2839f25d086af736a60e9eeb907d3b93b6e0e5",
    "execution": {
     "iopub.execute_input": "2025-02-24T01:47:38.694058Z",
     "iopub.status.busy": "2025-02-24T01:47:38.693611Z",
     "iopub.status.idle": "2025-02-24T01:47:38.707102Z",
     "shell.execute_reply": "2025-02-24T01:47:38.706231Z",
     "shell.execute_reply.started": "2025-02-24T01:47:38.694032Z"
    }
   },
   "outputs": [
    {
     "name": "stdout",
     "output_type": "stream",
     "text": [
      "/kaggle/input/distil_bert/keras/distil_bert_base_en_uncased/2/config.json\n",
      "/kaggle/input/distil_bert/keras/distil_bert_base_en_uncased/2/tokenizer.json\n",
      "/kaggle/input/distil_bert/keras/distil_bert_base_en_uncased/2/metadata.json\n",
      "/kaggle/input/distil_bert/keras/distil_bert_base_en_uncased/2/model.weights.h5\n",
      "/kaggle/input/distil_bert/keras/distil_bert_base_en_uncased/2/assets/tokenizer/vocabulary.txt\n",
      "/kaggle/input/nlp-getting-started/sample_submission.csv\n",
      "/kaggle/input/nlp-getting-started/train.csv\n",
      "/kaggle/input/nlp-getting-started/test.csv\n"
     ]
    }
   ],
   "source": [
    "# Display available files in the Kaggle input directory\n",
    "for dirname, _, filenames in os.walk('/kaggle/input'):\n",
    "    for filename in filenames:\n",
    "        print(os.path.join(dirname, filename))\n"
   ]
  },
  {
   "cell_type": "code",
   "execution_count": 59,
   "metadata": {
    "execution": {
     "iopub.execute_input": "2025-02-24T01:47:40.875049Z",
     "iopub.status.busy": "2025-02-24T01:47:40.874735Z",
     "iopub.status.idle": "2025-02-24T01:47:40.912242Z",
     "shell.execute_reply": "2025-02-24T01:47:40.911584Z",
     "shell.execute_reply.started": "2025-02-24T01:47:40.875021Z"
    }
   },
   "outputs": [],
   "source": [
    "# Load training and test datasets\n",
    "df_train = pd.read_csv('/kaggle/input/nlp-getting-started/train.csv')\n",
    "df_test = pd.read_csv('/kaggle/input/nlp-getting-started/test.csv')"
   ]
  },
  {
   "cell_type": "markdown",
   "metadata": {},
   "source": [
    "### Data Overview and Statistics\r\n",
    "\n",
    "Initial exploration of the dataset provides insights into its structure and characteristics:"
   ]
  },
  {
   "cell_type": "code",
   "execution_count": 60,
   "metadata": {
    "execution": {
     "iopub.execute_input": "2025-02-24T01:47:43.444984Z",
     "iopub.status.busy": "2025-02-24T01:47:43.444696Z",
     "iopub.status.idle": "2025-02-24T01:47:43.453367Z",
     "shell.execute_reply": "2025-02-24T01:47:43.452286Z",
     "shell.execute_reply.started": "2025-02-24T01:47:43.444963Z"
    }
   },
   "outputs": [
    {
     "name": "stdout",
     "output_type": "stream",
     "text": [
      "Training Set Shape = (7613, 5)\n",
      "Training Set Memory Usage = 0.29 MB\n",
      "Test Set Shape = (3263, 4)\n",
      "Test Set Memory Usage = 0.10 MB\n"
     ]
    }
   ],
   "source": [
    "# Print dataset shapes and memory usage\n",
    "print(f'Training Set Shape = {df_train.shape}')\n",
    "print(f'Training Set Memory Usage = {df_train.memory_usage().sum() / 1024**2:.2f} MB')\n",
    "print(f'Test Set Shape = {df_test.shape}')\n",
    "print(f'Test Set Memory Usage = {df_test.memory_usage().sum() / 1024**2:.2f} MB')"
   ]
  },
  {
   "cell_type": "code",
   "execution_count": 61,
   "metadata": {
    "execution": {
     "iopub.execute_input": "2025-02-24T01:47:48.634554Z",
     "iopub.status.busy": "2025-02-24T01:47:48.634203Z",
     "iopub.status.idle": "2025-02-24T01:47:48.651106Z",
     "shell.execute_reply": "2025-02-24T01:47:48.650298Z",
     "shell.execute_reply.started": "2025-02-24T01:47:48.634517Z"
    }
   },
   "outputs": [
    {
     "name": "stdout",
     "output_type": "stream",
     "text": [
      "Train Length Stat\n",
      "count    7613.000000\n",
      "mean      101.037436\n",
      "std        33.781325\n",
      "min         7.000000\n",
      "25%        78.000000\n",
      "50%       107.000000\n",
      "75%       133.000000\n",
      "max       157.000000\n",
      "Name: length, dtype: float64\n",
      "\n",
      "Test Length Stat\n",
      "count    3263.000000\n",
      "mean      102.108183\n",
      "std        33.972158\n",
      "min         5.000000\n",
      "25%        78.000000\n",
      "50%       109.000000\n",
      "75%       134.000000\n",
      "max       151.000000\n",
      "Name: length, dtype: float64\n"
     ]
    }
   ],
   "source": [
    "# Add a new column to calculate the length of each tweet\n",
    "df_train[\"length\"] = df_train[\"text\"].apply(lambda x: len(x))\n",
    "df_test[\"length\"] = df_test[\"text\"].apply(lambda x: len(x))\n",
    "\n",
    "# Display statistical summary of tweet lengths\n",
    "print(\"Train Length Stat\")\n",
    "print(df_train[\"length\"].describe())\n",
    "print()\n",
    "print(\"Test Length Stat\")\n",
    "print(df_test[\"length\"].describe())"
   ]
  },
  {
   "cell_type": "markdown",
   "metadata": {},
   "source": [
    "This analysis reveals important characteristics:\n",
    "\n",
    "- The training set contains 7,613 tweets with 5 features\n",
    "\n",
    "- The test set consists of 3,263 tweets with 4 features\n",
    "\n",
    "- The average tweet length is about 101 characters in the training set"
   ]
  },
  {
   "cell_type": "code",
   "execution_count": 62,
   "metadata": {
    "execution": {
     "iopub.execute_input": "2025-02-24T01:47:51.861527Z",
     "iopub.status.busy": "2025-02-24T01:47:51.861178Z",
     "iopub.status.idle": "2025-02-24T01:47:51.868605Z",
     "shell.execute_reply": "2025-02-24T01:47:51.867744Z",
     "shell.execute_reply.started": "2025-02-24T01:47:51.861497Z"
    }
   },
   "outputs": [
    {
     "data": {
      "text/plain": [
       "text      @bbcmtd Wholesale Markets ablaze http://t.co/l...\n",
       "target                                                    1\n",
       "Name: 31, dtype: object"
      ]
     },
     "execution_count": 62,
     "metadata": {},
     "output_type": "execute_result"
    }
   ],
   "source": [
    "df_train[['text','target']].iloc[31]"
   ]
  },
  {
   "cell_type": "markdown",
   "metadata": {},
   "source": [
    "### Data Cleaning and Preprocessing\r\n",
    "\n",
    "Text Preprocessing Function: s\r\n",
    "To prepare the text data for the models, we implement several preprocessing functions:"
   ]
  },
  {
   "cell_type": "code",
   "execution_count": 63,
   "metadata": {
    "execution": {
     "iopub.execute_input": "2025-02-24T01:47:54.563297Z",
     "iopub.status.busy": "2025-02-24T01:47:54.563000Z",
     "iopub.status.idle": "2025-02-24T01:47:54.589589Z",
     "shell.execute_reply": "2025-02-24T01:47:54.588737Z",
     "shell.execute_reply.started": "2025-02-24T01:47:54.563271Z"
    }
   },
   "outputs": [],
   "source": [
    "# Define a function to remove links from tweets\n",
    "def remove_links(text):\n",
    "    url_pattern = re.compile(r'https?://\\S+|www\\.\\S+')\n",
    "    return url_pattern.sub('', text)\n",
    "\n",
    "# Apply link removal function to both train and test datasets\n",
    "df_train['text'] = df_train['text'].apply(remove_links)\n",
    "df_test['text'] = df_test['text'].apply(remove_links)"
   ]
  },
  {
   "cell_type": "code",
   "execution_count": 64,
   "metadata": {
    "execution": {
     "iopub.execute_input": "2025-02-24T01:47:57.031301Z",
     "iopub.status.busy": "2025-02-24T01:47:57.031019Z",
     "iopub.status.idle": "2025-02-24T01:47:57.038973Z",
     "shell.execute_reply": "2025-02-24T01:47:57.038226Z",
     "shell.execute_reply.started": "2025-02-24T01:47:57.031278Z"
    }
   },
   "outputs": [
    {
     "data": {
      "text/plain": [
       "text      London is cool ;)\n",
       "target                    0\n",
       "Name: 21, dtype: object"
      ]
     },
     "execution_count": 64,
     "metadata": {},
     "output_type": "execute_result"
    }
   ],
   "source": [
    "df_train[['text','target']].iloc[21]"
   ]
  },
  {
   "cell_type": "code",
   "execution_count": 65,
   "metadata": {
    "execution": {
     "iopub.execute_input": "2025-02-24T01:48:08.595414Z",
     "iopub.status.busy": "2025-02-24T01:48:08.595093Z",
     "iopub.status.idle": "2025-02-24T01:48:08.660029Z",
     "shell.execute_reply": "2025-02-24T01:48:08.659383Z",
     "shell.execute_reply.started": "2025-02-24T01:48:08.595388Z"
    }
   },
   "outputs": [],
   "source": [
    "# Define a function to remove emojis from tweets\n",
    "def demojize(tweet):\n",
    "    # Regular expression to match emojis and symbols\n",
    "    emoji_pattern = re.compile(\n",
    "        u\"[\\U0001F600-\\U0001F64F\"   # Emoticons\n",
    "        u\"\\U0001F300-\\U0001F5FF\"   # Symbols & pictographs\n",
    "        u\"\\U0001F680-\\U0001F6FF\"   # Transport & map symbols\n",
    "        u\"\\U0001F1E0-\\U0001F1FF\"   # Flags (iOS)\n",
    "        u\"\\U00002702-\\U000027B0\"   # Miscellaneous symbols\n",
    "        u\"\\U000024C2-\\U0001F251\"   # Enclosed characters\n",
    "        \"]+\", flags=re.UNICODE\n",
    "    )\n",
    "    \n",
    "    # Remove emojis using the compiled regex\n",
    "    cleaned_text = emoji_pattern.sub(r'', tweet)\n",
    "    \n",
    "    return cleaned_text\n",
    "\n",
    "# Apply function to both train and test datasets\n",
    "df_train['text'] = df_train['text'].apply(demojize)\n",
    "df_test['text'] = df_test['text'].apply(demojize)\n",
    "\n",
    "\n",
    "# Define a function to expand contractions like \"don't\" to \"do not\"\n",
    "def remove_text_emoticons(tweet):\n",
    "    # Regular expression to match common text-based emoticons\n",
    "    emoticon_pattern = re.compile(\n",
    "        r'(:\\)|:-\\)|:D|:P|:-P|;\\)|;-\\)|:O|:-O|:\\/|:-\\/|\\(:|\\):|<3|\\^_\\^|\\(Y\\))', \n",
    "        flags=re.UNICODE\n",
    "    )\n",
    "    \n",
    "    # Remove emoticons\n",
    "    cleaned_text = emoticon_pattern.sub('', tweet)\n",
    "    \n",
    "    return cleaned_text\n",
    "\n",
    "# Apply contraction expansion function to both train and test datasets\n",
    "df_train['text'] = df_train['text'].apply(remove_text_emoticons)\n",
    "df_test['text'] = df_test['text'].apply(remove_text_emoticons)"
   ]
  },
  {
   "cell_type": "code",
   "execution_count": 66,
   "metadata": {
    "execution": {
     "iopub.execute_input": "2025-02-24T01:48:14.772077Z",
     "iopub.status.busy": "2025-02-24T01:48:14.771757Z",
     "iopub.status.idle": "2025-02-24T01:48:14.779956Z",
     "shell.execute_reply": "2025-02-24T01:48:14.779045Z",
     "shell.execute_reply.started": "2025-02-24T01:48:14.772047Z"
    }
   },
   "outputs": [
    {
     "data": {
      "text/plain": [
       "text      FYI CAD:FYI: ;ACCIDENT PROPERTY DAMAGE;NHS;999...\n",
       "target                                                    1\n",
       "Name: 86, dtype: object"
      ]
     },
     "execution_count": 66,
     "metadata": {},
     "output_type": "execute_result"
    }
   ],
   "source": [
    "df_train[['text','target']].iloc[86]"
   ]
  },
  {
   "cell_type": "markdown",
   "metadata": {},
   "source": [
    "### Abbreviation Expansion\r\n",
    "To improve the model's understanding of tweets, we expand common abbreviations:"
   ]
  },
  {
   "cell_type": "code",
   "execution_count": 67,
   "metadata": {
    "execution": {
     "iopub.execute_input": "2025-02-24T01:48:20.185618Z",
     "iopub.status.busy": "2025-02-24T01:48:20.185283Z",
     "iopub.status.idle": "2025-02-24T01:48:20.979093Z",
     "shell.execute_reply": "2025-02-24T01:48:20.978226Z",
     "shell.execute_reply.started": "2025-02-24T01:48:20.185590Z"
    }
   },
   "outputs": [],
   "source": [
    "# Define a dictionary mapping common abbreviations to their expanded forms.\n",
    "# This dictionary is used to replace abbreviations in tweets with their full meanings,\n",
    "# improving the readability and understanding of the text data.\n",
    "abbr_dict = {\n",
    "    \"AFAIK\": \"As Far As I Know\",\n",
    "    \"AFK\": \"Away From Keyboard\",\n",
    "    \"ASAP\": \"As Soon As Possible\",\n",
    "    \"ATK\": \"At The Keyboard\",\n",
    "    \"ATM\": \"At The Moment\",\n",
    "    \"A3\": \"Anytime, Anywhere, Anyplace\",\n",
    "    \"BAK\": \"Back At Keyboard\",\n",
    "    \"BBL\": \"Be Back Later\",\n",
    "    \"BBS\": \"Be Back Soon\",\n",
    "    \"BFN\": \"Bye For Now\",\n",
    "    \"B4N\": \"Bye For Now\",\n",
    "    \"BRB\": \"Be Right Back\",\n",
    "    \"BRT\": \"Be Right There\",\n",
    "    \"BTW\": \"By The Way\",\n",
    "    \"B4\": \"Before\",\n",
    "    \"CU\": \"See You\",\n",
    "    \"CUL8R\": \"See You Later\",\n",
    "    \"CYA\": \"See You\",\n",
    "    \"FAQ\": \"Frequently Asked Questions\",\n",
    "    \"FC\": \"Fingers Crossed\",\n",
    "    \"FWIW\": \"For What It's Worth\",\n",
    "    \"FYI\": \"For Your Information\",\n",
    "    \"GAL\": \"Get A Life\",\n",
    "    \"GG\": \"Good Game\",\n",
    "    \"GN\": \"Good Night\",\n",
    "    \"GMTA\": \"Great Minds Think Alike\",\n",
    "    \"GR8\": \"Great!\",\n",
    "    \"G9\": \"Genius\",\n",
    "    \"IC\": \"I See\",\n",
    "    \"ICQ\": \"I Seek You\",\n",
    "    \"ILU\": \"I Love You\",\n",
    "    \"IMHO\": \"In My Honest/Humble Opinion\",\n",
    "    \"IMO\": \"In My Opinion\",\n",
    "    \"IOW\": \"In Other Words\",\n",
    "    \"IRL\": \"In Real Life\",\n",
    "    \"KISS\": \"Keep It Simple, Stupid\",\n",
    "    \"LDR\": \"Long Distance Relationship\",\n",
    "    \"LMAO\": \"Laugh My A.. Off\",\n",
    "    \"LOL\": \"Laughing Out Loud\",\n",
    "    \"LTNS\": \"Long Time No See\",\n",
    "    \"L8R\": \"Later\",\n",
    "    \"MTE\": \"My Thoughts Exactly\",\n",
    "    \"M8\": \"Mate\",\n",
    "    \"NRN\": \"No Reply Necessary\",\n",
    "    \"OIC\": \"Oh I See\",\n",
    "    \"PITA\": \"Pain In The A..\",\n",
    "    \"PRT\": \"Party\",\n",
    "    \"PRW\": \"Parents Are Watching\",\n",
    "    \"QPSA?\": \"Que Pasa?\",\n",
    "    \"ROFL\": \"Rolling On The Floor Laughing\",\n",
    "    \"ROFLOL\": \"Rolling On The Floor Laughing Out Loud\",\n",
    "    \"ROTFLMAO\": \"Rolling On The Floor Laughing My A.. Off\",\n",
    "    \"SK8\": \"Skate\",\n",
    "    \"STATS\": \"Your Sex And Age\",\n",
    "    \"ASL\": \"Age, Sex, Location\",\n",
    "    \"THX\": \"Thank You\",\n",
    "    \"TTFN\": \"Ta-Ta For Now!\",\n",
    "    \"TTYL\": \"Talk To You Later\",\n",
    "    \"U\": \"You\",\n",
    "    \"U2\": \"You Too\",\n",
    "    \"U4E\": \"Yours For Ever\",\n",
    "    \"WB\": \"Welcome Back\",\n",
    "    \"WTF\": \"What The F...\",\n",
    "    \"WTG\": \"Way To Go!\",\n",
    "    \"WUF\": \"Where Are You From?\",\n",
    "    \"W8\": \"Wait...\",\n",
    "    \"7K\": \"Sick:-D Laughter\",\n",
    "    \"TFW\": \"That Feeling When\",\n",
    "    \"MFW\": \"My Face When\",\n",
    "    \"MRW\": \"My Reaction When\",\n",
    "    \"IFYP\": \"I Feel Your Pain\",\n",
    "    \"TNTL\": \"Trying Not To Laugh\",\n",
    "    \"JK\": \"Just Kidding\",\n",
    "    \"IDC\": \"I Don’t Care\",\n",
    "    \"ILY\": \"I Love You\",\n",
    "    \"IMU\": \"I Miss You\",\n",
    "    \"ADIH\": \"Another Day In Hell\",\n",
    "    \"ZZZ\": \"Sleeping, Bored, Tired\",\n",
    "    \"WYWH\": \"Wish You Were Here\",\n",
    "    \"TIME\": \"Tears In My Eyes\",\n",
    "    \"BAE\": \"Before Anyone Else\",\n",
    "    \"FIMH\": \"Forever In My Heart\",\n",
    "    \"BSAAW\": \"Big Smile And A Wink\",\n",
    "    \"BWL\": \"Bursting With Laughter\",\n",
    "    \"BFF\": \"Best Friends Forever\",\n",
    "    \"CSL\": \"Can’t Stop Laughing\"\n",
    "}\n",
    "\n",
    "# Replace abbreviations in the 'text' column of both training and test datasets using the defined dictionary.\n",
    "# This operation ensures that tweets with abbreviations are transformed into their expanded forms,\n",
    "# making them more suitable for downstream NLP tasks such as sentiment analysis or classification.\n",
    "df_train['text'] = df_train['text'].replace(abbr_dict, regex=True)\n",
    "df_test['text'] = df_test['text'].replace(abbr_dict, regex=True)"
   ]
  },
  {
   "cell_type": "code",
   "execution_count": 68,
   "metadata": {
    "execution": {
     "iopub.execute_input": "2025-02-24T01:48:22.490600Z",
     "iopub.status.busy": "2025-02-24T01:48:22.490228Z",
     "iopub.status.idle": "2025-02-24T01:48:22.497944Z",
     "shell.execute_reply": "2025-02-24T01:48:22.497116Z",
     "shell.execute_reply.started": "2025-02-24T01:48:22.490569Z"
    }
   },
   "outputs": [
    {
     "data": {
      "text/plain": [
       "text      For Your Information CAD:For Your Information:...\n",
       "target                                                    1\n",
       "Name: 86, dtype: object"
      ]
     },
     "execution_count": 68,
     "metadata": {},
     "output_type": "execute_result"
    }
   ],
   "source": [
    "df_train[['text','target']].iloc[86]"
   ]
  },
  {
   "cell_type": "markdown",
   "metadata": {},
   "source": [
    "### Text Normalization\r\n",
    "We normalize text by expanding contractions, removing accents, and converting to lowercase:"
   ]
  },
  {
   "cell_type": "code",
   "execution_count": 70,
   "metadata": {
    "execution": {
     "iopub.execute_input": "2025-02-24T01:49:02.127494Z",
     "iopub.status.busy": "2025-02-24T01:49:02.127143Z",
     "iopub.status.idle": "2025-02-24T01:49:05.414857Z",
     "shell.execute_reply": "2025-02-24T01:49:05.413943Z",
     "shell.execute_reply.started": "2025-02-24T01:49:02.127463Z"
    }
   },
   "outputs": [
    {
     "name": "stdout",
     "output_type": "stream",
     "text": [
      "Requirement already satisfied: contractions in /usr/local/lib/python3.10/dist-packages (0.1.73)\n",
      "Requirement already satisfied: textsearch>=0.0.21 in /usr/local/lib/python3.10/dist-packages (from contractions) (0.0.24)\n",
      "Requirement already satisfied: anyascii in /usr/local/lib/python3.10/dist-packages (from textsearch>=0.0.21->contractions) (0.3.2)\n",
      "Requirement already satisfied: pyahocorasick in /usr/local/lib/python3.10/dist-packages (from textsearch>=0.0.21->contractions) (2.1.0)\n",
      "Note: you may need to restart the kernel to use updated packages.\n"
     ]
    }
   ],
   "source": [
    "pip install contractions"
   ]
  },
  {
   "cell_type": "code",
   "execution_count": 71,
   "metadata": {
    "execution": {
     "iopub.execute_input": "2025-02-24T01:49:08.050067Z",
     "iopub.status.busy": "2025-02-24T01:49:08.049734Z",
     "iopub.status.idle": "2025-02-24T01:49:08.138747Z",
     "shell.execute_reply": "2025-02-24T01:49:08.137879Z",
     "shell.execute_reply.started": "2025-02-24T01:49:08.050039Z"
    }
   },
   "outputs": [],
   "source": [
    "import contractions\n",
    "\n",
    "# Define a function to expand contractions in a tweet\n",
    "def expand_contractions(tweet):\n",
    "    return contractions.fix(tweet)\n",
    "\n",
    "# Apply contraction expansion to both train and test datasets\n",
    "df_train['text'] = df_train['text'].apply(lambda x: expand_contractions(x))\n",
    "df_test['text'] = df_test['text'].apply(lambda x: expand_contractions(x))"
   ]
  },
  {
   "cell_type": "code",
   "execution_count": 72,
   "metadata": {
    "execution": {
     "iopub.execute_input": "2025-02-24T01:49:10.695482Z",
     "iopub.status.busy": "2025-02-24T01:49:10.695167Z",
     "iopub.status.idle": "2025-02-24T01:49:10.703850Z",
     "shell.execute_reply": "2025-02-24T01:49:10.703056Z",
     "shell.execute_reply.started": "2025-02-24T01:49:10.695455Z"
    }
   },
   "outputs": [
    {
     "data": {
      "text/plain": [
       "text      Was in NYC last week!\n",
       "target                        0\n",
       "Name: 26, dtype: object"
      ]
     },
     "execution_count": 72,
     "metadata": {},
     "output_type": "execute_result"
    }
   ],
   "source": [
    "df_train[['text','target']].iloc[26]"
   ]
  },
  {
   "cell_type": "code",
   "execution_count": 73,
   "metadata": {
    "execution": {
     "iopub.execute_input": "2025-02-24T01:49:12.281405Z",
     "iopub.status.busy": "2025-02-24T01:49:12.281089Z",
     "iopub.status.idle": "2025-02-24T01:49:15.581955Z",
     "shell.execute_reply": "2025-02-24T01:49:15.580907Z",
     "shell.execute_reply.started": "2025-02-24T01:49:12.281376Z"
    }
   },
   "outputs": [
    {
     "name": "stdout",
     "output_type": "stream",
     "text": [
      "Requirement already satisfied: unidecode in /usr/local/lib/python3.10/dist-packages (1.3.8)\n",
      "Note: you may need to restart the kernel to use updated packages.\n"
     ]
    }
   ],
   "source": [
    "pip install unidecode"
   ]
  },
  {
   "cell_type": "code",
   "execution_count": 74,
   "metadata": {
    "execution": {
     "iopub.execute_input": "2025-02-24T01:49:17.532825Z",
     "iopub.status.busy": "2025-02-24T01:49:17.532511Z",
     "iopub.status.idle": "2025-02-24T01:49:17.537850Z",
     "shell.execute_reply": "2025-02-24T01:49:17.536824Z",
     "shell.execute_reply.started": "2025-02-24T01:49:17.532799Z"
    }
   },
   "outputs": [],
   "source": [
    "# Import unidecode for removing accents\n",
    "import re\n",
    "import unidecode\n",
    "\n",
    "# Define a function to clean keywords by replacing %20 with space\n",
    "def clean_keywords(keyword):\n",
    "    cleaned = re.sub(r'%20', ' ', keyword)\n",
    "    return cleaned\n",
    "\n",
    "# Define a function to remove accents from text\n",
    "def remove_accents(keyword):\n",
    "    cleaned = unidecode.unidecode(keyword)\n",
    "    return cleaned\n",
    "\n",
    "# Define a function to remove punctuation from text\n",
    "def remove_punctuation(keyword):\n",
    "    cleaned = re.sub(r\"[!\\\"#$%&()*+-./:;<=>?@[\\]^_`{|}~\\n -' ]\",\" \",keyword)\n",
    "    return cleaned"
   ]
  },
  {
   "cell_type": "code",
   "execution_count": 75,
   "metadata": {
    "execution": {
     "iopub.execute_input": "2025-02-24T01:49:19.659778Z",
     "iopub.status.busy": "2025-02-24T01:49:19.659473Z",
     "iopub.status.idle": "2025-02-24T01:49:19.669773Z",
     "shell.execute_reply": "2025-02-24T01:49:19.668836Z",
     "shell.execute_reply.started": "2025-02-24T01:49:19.659753Z"
    }
   },
   "outputs": [
    {
     "data": {
      "text/plain": [
       "text      Barbados #Bridgetown JAMAI SeeA ÛÒ Two cars s...\n",
       "target                                                    1\n",
       "Name: 38, dtype: object"
      ]
     },
     "execution_count": 75,
     "metadata": {},
     "output_type": "execute_result"
    }
   ],
   "source": [
    "df_train[['text','target']].iloc[38]"
   ]
  },
  {
   "cell_type": "code",
   "execution_count": 76,
   "metadata": {
    "execution": {
     "iopub.execute_input": "2025-02-24T01:49:21.356966Z",
     "iopub.status.busy": "2025-02-24T01:49:21.356687Z",
     "iopub.status.idle": "2025-02-24T01:49:21.465210Z",
     "shell.execute_reply": "2025-02-24T01:49:21.464603Z",
     "shell.execute_reply.started": "2025-02-24T01:49:21.356944Z"
    }
   },
   "outputs": [],
   "source": [
    "# Apply text cleaning functions to both train and test datasets\n",
    "df_train['text'] = df_train['text'].apply(lambda x: clean_keywords(x))\n",
    "df_test['text'] = df_test['text'].apply(lambda x: clean_keywords(x))\n",
    "df_train['text'] = df_train['text'].apply(lambda x: remove_accents(x))\n",
    "df_test['text'] = df_test['text'].apply(lambda x: remove_accents(x))\n",
    "df_train['text'] = df_train['text'].apply(lambda x: remove_punctuation(x))\n",
    "df_test['text'] = df_test['text'].apply(lambda x: remove_punctuation(x))"
   ]
  },
  {
   "cell_type": "code",
   "execution_count": 77,
   "metadata": {
    "execution": {
     "iopub.execute_input": "2025-02-24T01:49:23.977127Z",
     "iopub.status.busy": "2025-02-24T01:49:23.976843Z",
     "iopub.status.idle": "2025-02-24T01:49:23.984530Z",
     "shell.execute_reply": "2025-02-24T01:49:23.983806Z",
     "shell.execute_reply.started": "2025-02-24T01:49:23.977104Z"
    }
   },
   "outputs": [
    {
     "data": {
      "text/plain": [
       "text      Barbados  Bridgetown JAMAI SeeA UO Two cars se...\n",
       "target                                                    1\n",
       "Name: 38, dtype: object"
      ]
     },
     "execution_count": 77,
     "metadata": {},
     "output_type": "execute_result"
    }
   ],
   "source": [
    "df_train[['text','target']].iloc[38]"
   ]
  },
  {
   "cell_type": "code",
   "execution_count": 78,
   "metadata": {
    "execution": {
     "iopub.execute_input": "2025-02-24T01:49:25.792604Z",
     "iopub.status.busy": "2025-02-24T01:49:25.792279Z",
     "iopub.status.idle": "2025-02-24T01:49:25.801060Z",
     "shell.execute_reply": "2025-02-24T01:49:25.800084Z",
     "shell.execute_reply.started": "2025-02-24T01:49:25.792580Z"
    }
   },
   "outputs": [],
   "source": [
    "# Convert text to lowercase\n",
    "df_train['text'] = df_train['text'].str.lower()\n",
    "df_test['text'] = df_test['text'].str.lower()"
   ]
  },
  {
   "cell_type": "markdown",
   "metadata": {},
   "source": [
    "### Train-Validation Split\r\n",
    "We split the data into training and validation sets to evaluate model performance:"
   ]
  },
  {
   "cell_type": "code",
   "execution_count": 79,
   "metadata": {
    "execution": {
     "iopub.execute_input": "2025-02-24T01:49:29.010831Z",
     "iopub.status.busy": "2025-02-24T01:49:29.010490Z",
     "iopub.status.idle": "2025-02-24T01:49:29.023240Z",
     "shell.execute_reply": "2025-02-24T01:49:29.022609Z",
     "shell.execute_reply.started": "2025-02-24T01:49:29.010804Z"
    }
   },
   "outputs": [],
   "source": [
    "from sklearn.model_selection import train_test_split\n",
    "\n",
    "# Separate features (X) and labels (y) for training data\n",
    "X = df_train[\"text\"]\n",
    "y = df_train[\"target\"]\n",
    "\n",
    "# Split data into training and validation sets (80% train, 20% validation)\n",
    "val_split = 0.2\n",
    "X_train, X_val, y_train, y_val = train_test_split(X, y, test_size=val_split, random_state=42, stratify=y)\n",
    "\n",
    "# Extract test features for prediction later\n",
    "X_test = df_test[\"text\"]"
   ]
  },
  {
   "cell_type": "markdown",
   "metadata": {},
   "source": [
    "## 2. Model Development\n",
    "## a. roBERTa\n",
    "\n",
    "We implement the RoBERTa model, a powerful transformer-based architecture for NLP tasks:\r\n"
   ]
  },
  {
   "cell_type": "code",
   "execution_count": 82,
   "metadata": {
    "execution": {
     "iopub.execute_input": "2025-02-24T01:50:09.011626Z",
     "iopub.status.busy": "2025-02-24T01:50:09.011269Z",
     "iopub.status.idle": "2025-02-24T01:50:30.573732Z",
     "shell.execute_reply": "2025-02-24T01:50:30.572896Z",
     "shell.execute_reply.started": "2025-02-24T01:50:09.011593Z"
    }
   },
   "outputs": [
    {
     "name": "stdout",
     "output_type": "stream",
     "text": [
      "TensorFlow version: 2.17.1\n",
      "KerasNLP version: 0.18.1\n"
     ]
    }
   ],
   "source": [
    "import tensorflow as tf\n",
    "import keras as keras\n",
    "import keras_nlp\n",
    "from sklearn.metrics import ConfusionMatrixDisplay, confusion_matrix\n",
    "import seaborn as sns\n",
    "import matplotlib.pyplot as plt\n",
    "\n",
    "from transformers import RobertaTokenizer, TFRobertaForSequenceClassification\n",
    "from tensorflow.keras.optimizers.schedules import PolynomialDecay\n",
    "from tensorflow.keras.optimizers import AdamW\n",
    "\n",
    "print(\"TensorFlow version:\", tf.__version__)\n",
    "print(\"KerasNLP version:\", keras_nlp.__version__)"
   ]
  },
  {
   "cell_type": "markdown",
   "metadata": {},
   "source": [
    "### 1. Model and tokenizer initialization:\r\n"
   ]
  },
  {
   "cell_type": "code",
   "execution_count": 83,
   "metadata": {
    "execution": {
     "iopub.execute_input": "2025-02-24T01:50:52.847805Z",
     "iopub.status.busy": "2025-02-24T01:50:52.847065Z",
     "iopub.status.idle": "2025-02-24T01:50:54.664421Z",
     "shell.execute_reply": "2025-02-24T01:50:54.663509Z",
     "shell.execute_reply.started": "2025-02-24T01:50:52.847768Z"
    }
   },
   "outputs": [
    {
     "data": {
      "application/vnd.jupyter.widget-view+json": {
       "model_id": "92dde5f639d0464e8d808437536301f9",
       "version_major": 2,
       "version_minor": 0
      },
      "text/plain": [
       "tokenizer_config.json:   0%|          | 0.00/25.0 [00:00<?, ?B/s]"
      ]
     },
     "metadata": {},
     "output_type": "display_data"
    },
    {
     "data": {
      "application/vnd.jupyter.widget-view+json": {
       "model_id": "128f86904c6643aeaefdf2393de3710a",
       "version_major": 2,
       "version_minor": 0
      },
      "text/plain": [
       "vocab.json:   0%|          | 0.00/899k [00:00<?, ?B/s]"
      ]
     },
     "metadata": {},
     "output_type": "display_data"
    },
    {
     "data": {
      "application/vnd.jupyter.widget-view+json": {
       "model_id": "a60f532ce5e644249c3e561ff913f04b",
       "version_major": 2,
       "version_minor": 0
      },
      "text/plain": [
       "merges.txt:   0%|          | 0.00/456k [00:00<?, ?B/s]"
      ]
     },
     "metadata": {},
     "output_type": "display_data"
    },
    {
     "data": {
      "application/vnd.jupyter.widget-view+json": {
       "model_id": "524faa4d8cc549d68279cfc44e9ffbe0",
       "version_major": 2,
       "version_minor": 0
      },
      "text/plain": [
       "tokenizer.json:   0%|          | 0.00/1.36M [00:00<?, ?B/s]"
      ]
     },
     "metadata": {},
     "output_type": "display_data"
    },
    {
     "data": {
      "application/vnd.jupyter.widget-view+json": {
       "model_id": "d679f3a5fddb4195b97a33702932a003",
       "version_major": 2,
       "version_minor": 0
      },
      "text/plain": [
       "config.json:   0%|          | 0.00/481 [00:00<?, ?B/s]"
      ]
     },
     "metadata": {},
     "output_type": "display_data"
    }
   ],
   "source": [
    "# Load RoBERTa tokenizer and model for sequence classification tasks\n",
    "MODEL_NAME = \"roberta-base\"\n",
    "tokenizer_roberta = RobertaTokenizer.from_pretrained(MODEL_NAME)"
   ]
  },
  {
   "cell_type": "markdown",
   "metadata": {},
   "source": [
    "### 2. Data tokenization function:\r\n"
   ]
  },
  {
   "cell_type": "code",
   "execution_count": 84,
   "metadata": {
    "execution": {
     "iopub.execute_input": "2025-02-24T01:51:00.498492Z",
     "iopub.status.busy": "2025-02-24T01:51:00.498128Z",
     "iopub.status.idle": "2025-02-24T01:51:00.502804Z",
     "shell.execute_reply": "2025-02-24T01:51:00.501750Z",
     "shell.execute_reply.started": "2025-02-24T01:51:00.498460Z"
    }
   },
   "outputs": [],
   "source": [
    "# Define function to tokenize texts using RoBERTa tokenizer\n",
    "def tokenize_roberta(texts, labels, max_length=160):\n",
    "    encodings = tokenizer_roberta(texts.tolist(), truncation=True, padding=True, max_length=max_length, return_tensors=\"tf\")\n",
    "    return encodings, tf.convert_to_tensor(labels, dtype=tf.int32)"
   ]
  },
  {
   "cell_type": "markdown",
   "metadata": {},
   "source": [
    "### 3. Tokenize training and validation data:"
   ]
  },
  {
   "cell_type": "code",
   "execution_count": 86,
   "metadata": {
    "execution": {
     "iopub.execute_input": "2025-02-24T01:51:35.214483Z",
     "iopub.status.busy": "2025-02-24T01:51:35.214115Z",
     "iopub.status.idle": "2025-02-24T01:51:39.113772Z",
     "shell.execute_reply": "2025-02-24T01:51:39.113019Z",
     "shell.execute_reply.started": "2025-02-24T01:51:35.214447Z"
    }
   },
   "outputs": [],
   "source": [
    "# Tokenize training and validation data\n",
    "train_encodings_roberta, train_labels_roberta = tokenize_roberta(X_train, y_train)\n",
    "val_encodings_roberta, val_labels_roberta = tokenize_roberta(X_val, y_val)\n",
    "fulltrain_encodings_roberta, fulltrain_labels_roberta = tokenize_roberta(X,y)"
   ]
  },
  {
   "cell_type": "markdown",
   "metadata": {},
   "source": [
    "### 4. Model training configuration & training:"
   ]
  },
  {
   "cell_type": "code",
   "execution_count": 87,
   "metadata": {
    "execution": {
     "iopub.execute_input": "2025-02-24T01:52:16.931072Z",
     "iopub.status.busy": "2025-02-24T01:52:16.930758Z",
     "iopub.status.idle": "2025-02-24T02:05:24.541403Z",
     "shell.execute_reply": "2025-02-24T02:05:24.540693Z",
     "shell.execute_reply.started": "2025-02-24T01:52:16.931048Z"
    }
   },
   "outputs": [
    {
     "name": "stderr",
     "output_type": "stream",
     "text": [
      "Some weights of the PyTorch model were not used when initializing the TF 2.0 model TFRobertaForSequenceClassification: ['roberta.embeddings.position_ids']\n",
      "- This IS expected if you are initializing TFRobertaForSequenceClassification from a PyTorch model trained on another task or with another architecture (e.g. initializing a TFBertForSequenceClassification model from a BertForPreTraining model).\n",
      "- This IS NOT expected if you are initializing TFRobertaForSequenceClassification from a PyTorch model that you expect to be exactly identical (e.g. initializing a TFBertForSequenceClassification model from a BertForSequenceClassification model).\n",
      "Some weights or buffers of the TF 2.0 model TFRobertaForSequenceClassification were not initialized from the PyTorch model and are newly initialized: ['classifier.dense.weight', 'classifier.dense.bias', 'classifier.out_proj.weight', 'classifier.out_proj.bias']\n",
      "You should probably TRAIN this model on a down-stream task to be able to use it for predictions and inference.\n"
     ]
    },
    {
     "name": "stdout",
     "output_type": "stream",
     "text": [
      "Epoch 1/10\n",
      "106/106 [==============================] - 98s 721ms/step - loss: 0.6933 - accuracy: 0.5703\n",
      "Epoch 2/10\n",
      "106/106 [==============================] - 76s 720ms/step - loss: 0.5334 - accuracy: 0.6988\n",
      "Epoch 3/10\n",
      "106/106 [==============================] - 76s 721ms/step - loss: 0.4139 - accuracy: 0.8256\n",
      "Epoch 4/10\n",
      "106/106 [==============================] - 76s 720ms/step - loss: 0.3897 - accuracy: 0.8359\n",
      "Epoch 5/10\n",
      "106/106 [==============================] - 76s 721ms/step - loss: 0.3754 - accuracy: 0.8432\n",
      "Epoch 6/10\n",
      "106/106 [==============================] - 76s 721ms/step - loss: 0.3633 - accuracy: 0.8509\n",
      "Epoch 7/10\n",
      "106/106 [==============================] - 76s 720ms/step - loss: 0.3563 - accuracy: 0.8549\n",
      "Epoch 8/10\n",
      "106/106 [==============================] - 76s 721ms/step - loss: 0.3523 - accuracy: 0.8559\n",
      "Epoch 9/10\n",
      "106/106 [==============================] - 76s 720ms/step - loss: 0.3509 - accuracy: 0.8575\n",
      "Epoch 10/10\n",
      "106/106 [==============================] - 76s 719ms/step - loss: 0.3487 - accuracy: 0.8567\n"
     ]
    },
    {
     "data": {
      "text/plain": [
       "<tf_keras.src.callbacks.History at 0x7ec218835870>"
      ]
     },
     "execution_count": 87,
     "metadata": {},
     "output_type": "execute_result"
    }
   ],
   "source": [
    "from transformers import TFRobertaForSequenceClassification, create_optimizer\n",
    "from tensorflow.keras.optimizers.schedules import PolynomialDecay\n",
    "\n",
    "# ✅ Load Pretrained RoBERTa Model\n",
    "MODEL_NAME = \"roberta-base\"\n",
    "model_roberta = TFRobertaForSequenceClassification.from_pretrained(MODEL_NAME, num_labels=1)  # Set to 1 for binary classification\n",
    "\n",
    "# ✅ Define Training Parameters\n",
    "batch_size = 72\n",
    "num_epochs = 10\n",
    "steps_per_epoch = len(X) // batch_size\n",
    "total_steps = steps_per_epoch * num_epochs\n",
    "\n",
    "# ✅ Create Optimizer\n",
    "optimizer, _ = create_optimizer(\n",
    "    init_lr=2e-6,\n",
    "    num_train_steps=total_steps,\n",
    "    num_warmup_steps=int(0.1 * total_steps),\n",
    "    weight_decay_rate=0.01\n",
    ")\n",
    "\n",
    "# ✅ Compile Model with BinaryCrossentropy\n",
    "model_roberta.compile(\n",
    "    optimizer=optimizer,\n",
    "    loss=tf.keras.losses.BinaryCrossentropy(from_logits=True),  # ✅ Correct loss function for binary classification\n",
    "    metrics=[\"accuracy\"]\n",
    ")\n",
    "\n",
    "# ✅ Train Model\n",
    "model_roberta.fit(\n",
    "    x={\"input_ids\": fulltrain_encodings_roberta[\"input_ids\"], \"attention_mask\": fulltrain_encodings_roberta[\"attention_mask\"]},\n",
    "    y=fulltrain_labels_roberta,  # Ensure labels are shape (num_samples, 1)\n",
    "    batch_size=batch_size,\n",
    "    epochs=num_epochs\n",
    ")"
   ]
  },
  {
   "cell_type": "markdown",
   "metadata": {},
   "source": [
    "### 5. Performance Visualization"
   ]
  },
  {
   "cell_type": "code",
   "execution_count": 21,
   "metadata": {
    "execution": {
     "iopub.execute_input": "2025-02-23T00:53:51.358713Z",
     "iopub.status.busy": "2025-02-23T00:53:51.358366Z",
     "iopub.status.idle": "2025-02-23T00:53:51.665777Z",
     "shell.execute_reply": "2025-02-23T00:53:51.664786Z",
     "shell.execute_reply.started": "2025-02-23T00:53:51.358687Z"
    }
   },
   "outputs": [
    {
     "data": {
      "image/png": "[encoded data removed]",
      "text/plain": [
       "<Figure size 1000x500 with 1 Axes>"
      ]
     },
     "metadata": {},
     "output_type": "display_data"
    }
   ],
   "source": [
    "# Plot training and test accuracy\n",
    "plt.figure(figsize=(10, 5))\n",
    "plt.plot(model_roberta.history.history['accuracy'], label='Train Accuracy')\n",
    "plt.plot(model_roberta.history.history['val_accuracy'], label='Test Accuracy')\n",
    "plt.xlabel('Epoch')\n",
    "plt.ylabel('Accuracy')\n",
    "plt.legend()\n",
    "plt.title('Train and Test Accuracy roBERTa')\n",
    "plt.show()"
   ]
  },
  {
   "cell_type": "markdown",
   "metadata": {},
   "source": [
    "### 6. Model Evaluation and prediction"
   ]
  },
  {
   "cell_type": "code",
   "execution_count": 21,
   "metadata": {
    "execution": {
     "iopub.execute_input": "2025-02-17T20:56:00.335378Z",
     "iopub.status.busy": "2025-02-17T20:56:00.335024Z",
     "iopub.status.idle": "2025-02-17T20:56:07.604337Z",
     "shell.execute_reply": "2025-02-17T20:56:07.603613Z",
     "shell.execute_reply.started": "2025-02-17T20:56:00.335343Z"
    }
   },
   "outputs": [
    {
     "name": "stdout",
     "output_type": "stream",
     "text": [
      "48/48 [==============================] - 7s 95ms/step\n"
     ]
    }
   ],
   "source": [
    "# Generate predictions on validation set\n",
    "y_val_logits = model_roberta.predict({\"input_ids\": val_encodings_roberta[\"input_ids\"], \"attention_mask\": val_encodings_roberta[\"attention_mask\"]})\n",
    "y_val_probs = tf.nn.sigmoid(y_val_logits.logits).numpy()"
   ]
  },
  {
   "cell_type": "code",
   "execution_count": 22,
   "metadata": {
    "execution": {
     "iopub.execute_input": "2025-02-17T20:56:07.605434Z",
     "iopub.status.busy": "2025-02-17T20:56:07.605193Z",
     "iopub.status.idle": "2025-02-17T20:56:07.609162Z",
     "shell.execute_reply": "2025-02-17T20:56:07.608421Z",
     "shell.execute_reply.started": "2025-02-17T20:56:07.605413Z"
    }
   },
   "outputs": [],
   "source": [
    "# Convert probabilities to class labels\n",
    "y_val_labels = (y_val_probs > 0.5).astype(int).flatten()"
   ]
  },
  {
   "cell_type": "code",
   "execution_count": 23,
   "metadata": {
    "execution": {
     "iopub.execute_input": "2025-02-17T20:56:07.612303Z",
     "iopub.status.busy": "2025-02-17T20:56:07.612111Z",
     "iopub.status.idle": "2025-02-17T20:56:07.782418Z",
     "shell.execute_reply": "2025-02-17T20:56:07.781754Z",
     "shell.execute_reply.started": "2025-02-17T20:56:07.612286Z"
    }
   },
   "outputs": [
    {
     "name": "stdout",
     "output_type": "stream",
     "text": [
      "F1 Score: 0.8028059236165237\n"
     ]
    },
    {
     "data": {
      "image/png": "[encoded data removed]",
      "text/plain": [
       "<Figure size 640x480 with 2 Axes>"
      ]
     },
     "metadata": {},
     "output_type": "display_data"
    }
   ],
   "source": [
    "import matplotlib.pyplot as plt\n",
    "from sklearn.metrics import f1_score\n",
    "\n",
    "# Calculate the F1 score\n",
    "f1 = f1_score(y_val, y_val_labels)\n",
    "print(f\"F1 Score: {f1}\")\n",
    "\n",
    "# Create the confusion matrix\n",
    "cm = confusion_matrix(y_val, y_val_labels)\n",
    "\n",
    "# Plot the confusion matrix\n",
    "disp = ConfusionMatrixDisplay(confusion_matrix=cm)\n",
    "disp.plot(cmap=plt.cm.Blues)\n",
    "plt.show()"
   ]
  },
  {
   "cell_type": "code",
   "execution_count": 24,
   "metadata": {
    "execution": {
     "iopub.execute_input": "2025-02-17T20:56:07.783474Z",
     "iopub.status.busy": "2025-02-17T20:56:07.783247Z",
     "iopub.status.idle": "2025-02-17T20:56:07.790672Z",
     "shell.execute_reply": "2025-02-17T20:56:07.789980Z",
     "shell.execute_reply.started": "2025-02-17T20:56:07.783454Z"
    }
   },
   "outputs": [
    {
     "name": "stdout",
     "output_type": "stream",
     "text": [
      "TPR (Sensitivity): 0.7874617737003058\n",
      "FPR (1-Specificity): 0.13118527042577677\n",
      "FNR (1-Sensitivity): 0.21253822629969418\n",
      "TNR (Specificity): 0.8688147295742232\n"
     ]
    }
   ],
   "source": [
    "# prompt: print fpr tpr, fnr and tnr\n",
    "\n",
    "from sklearn.metrics import confusion_matrix\n",
    "\n",
    "# Assuming y_val and y_pred_labels are defined as in your original code\n",
    "tn, fp, fn, tp = confusion_matrix(y_val, y_val_labels).ravel()\n",
    "\n",
    "tpr = tp / (tp + fn)  # True Positive Rate (Sensitivity)\n",
    "fpr = fp / (fp + tn)  # False Positive Rate (1-Specificity)\n",
    "fnr = fn / (fn + tp)  # False Negative Rate (1-Sensitivity)\n",
    "tnr = tn / (tn + fp)  # True Negative Rate (Specificity)\n",
    "\n",
    "print(f\"TPR (Sensitivity): {tpr}\")\n",
    "print(f\"FPR (1-Specificity): {fpr}\")\n",
    "print(f\"FNR (1-Sensitivity): {fnr}\")\n",
    "print(f\"TNR (Specificity): {tnr}\")"
   ]
  },
  {
   "cell_type": "code",
   "execution_count": 88,
   "metadata": {
    "execution": {
     "iopub.execute_input": "2025-02-24T02:06:29.916815Z",
     "iopub.status.busy": "2025-02-24T02:06:29.916491Z",
     "iopub.status.idle": "2025-02-24T02:06:29.923153Z",
     "shell.execute_reply": "2025-02-24T02:06:29.922190Z",
     "shell.execute_reply.started": "2025-02-24T02:06:29.916794Z"
    }
   },
   "outputs": [],
   "source": [
    "# Prepare submission dataframe\n",
    "submit_roberta = pd.DataFrame()\n",
    "submit_roberta['id'] = df_test['id']"
   ]
  },
  {
   "cell_type": "code",
   "execution_count": 89,
   "metadata": {
    "execution": {
     "iopub.execute_input": "2025-02-24T02:06:34.300253Z",
     "iopub.status.busy": "2025-02-24T02:06:34.299964Z",
     "iopub.status.idle": "2025-02-24T02:06:47.351297Z",
     "shell.execute_reply": "2025-02-24T02:06:47.350643Z",
     "shell.execute_reply.started": "2025-02-24T02:06:34.300226Z"
    }
   },
   "outputs": [
    {
     "name": "stdout",
     "output_type": "stream",
     "text": [
      "102/102 [==============================] - 12s 94ms/step\n"
     ]
    }
   ],
   "source": [
    "# Generate predictions on test set\n",
    "test_encodings_roberta = tokenizer_roberta(df_test['text'].tolist(), truncation=True, padding=True, max_length=128, return_tensors=\"tf\")\n",
    "y_roberta_logits = model_roberta.predict({\"input_ids\": test_encodings_roberta[\"input_ids\"], \"attention_mask\": test_encodings_roberta[\"attention_mask\"]})"
   ]
  },
  {
   "cell_type": "code",
   "execution_count": 90,
   "metadata": {
    "execution": {
     "iopub.execute_input": "2025-02-24T02:06:56.916228Z",
     "iopub.status.busy": "2025-02-24T02:06:56.915925Z",
     "iopub.status.idle": "2025-02-24T02:06:57.021783Z",
     "shell.execute_reply": "2025-02-24T02:06:57.020886Z",
     "shell.execute_reply.started": "2025-02-24T02:06:56.916205Z"
    }
   },
   "outputs": [],
   "source": [
    "# Convert logits to probabilities and then to class labels\n",
    "y_roberta_probs = tf.nn.sigmoid(y_roberta_logits.logits).numpy()\n",
    "y_roberta_labels = (y_roberta_probs > 0.5).astype(int).flatten()\n",
    "submit_roberta['target'] = y_roberta_labels\n",
    "\n",
    "# Save predictions to CSV file\n",
    "submit_roberta.to_csv('/kaggle/working/submission_roberta.csv', index=False)"
   ]
  },
  {
   "cell_type": "markdown",
   "metadata": {},
   "source": [
    "### 7. Model saving:"
   ]
  },
  {
   "cell_type": "code",
   "execution_count": 28,
   "metadata": {
    "execution": {
     "iopub.execute_input": "2025-02-17T21:04:17.296591Z",
     "iopub.status.busy": "2025-02-17T21:04:17.296228Z",
     "iopub.status.idle": "2025-02-17T21:04:19.418741Z",
     "shell.execute_reply": "2025-02-17T21:04:19.417948Z",
     "shell.execute_reply.started": "2025-02-17T21:04:17.296562Z"
    }
   },
   "outputs": [
    {
     "data": {
      "text/plain": [
       "('./saved_roberta_tf_model/tokenizer_config.json',\n",
       " './saved_roberta_tf_model/special_tokens_map.json',\n",
       " './saved_roberta_tf_model/vocab.json',\n",
       " './saved_roberta_tf_model/merges.txt',\n",
       " './saved_roberta_tf_model/added_tokens.json')"
      ]
     },
     "execution_count": 28,
     "metadata": {},
     "output_type": "execute_result"
    }
   ],
   "source": [
    "# Save trained model and tokenizer\n",
    "save_directory = \"./saved_roberta_tf_model\"\n",
    "model_roberta.save_pretrained(save_directory)\n",
    "tokenizer_roberta.save_pretrained(save_directory)"
   ]
  },
  {
   "cell_type": "code",
   "execution_count": null,
   "metadata": {},
   "outputs": [],
   "source": [
    "# Load the fine-tuned model and tokenizer\n",
    "load_directory = \"./saved_roberta_tf_model\"\n",
    "model = TFBertForSequenceClassification.from_pretrained(load_directory)\n",
    "tokenizer = BertTokenizer.from_pretrained(load_directory)"
   ]
  },
  {
   "cell_type": "markdown",
   "metadata": {},
   "source": [
    "## b. DistillBERT\n",
    "\n",
    "We implement DistilBERT, a distilled version of BERT that maintains good performance while being lighter and faster:"
   ]
  },
  {
   "cell_type": "markdown",
   "metadata": {},
   "source": [
    "### 1. Model and tokenizer initialization:"
   ]
  },
  {
   "cell_type": "code",
   "execution_count": 91,
   "metadata": {
    "execution": {
     "iopub.execute_input": "2025-02-24T02:08:16.887795Z",
     "iopub.status.busy": "2025-02-24T02:08:16.887366Z",
     "iopub.status.idle": "2025-02-24T02:08:24.998739Z",
     "shell.execute_reply": "2025-02-24T02:08:24.998030Z",
     "shell.execute_reply.started": "2025-02-24T02:08:16.887760Z"
    }
   },
   "outputs": [
    {
     "data": {
      "text/html": [
       "<pre style=\"white-space:pre;overflow-x:auto;line-height:normal;font-family:Menlo,'DejaVu Sans Mono',consolas,'Courier New',monospace\"><span style=\"font-weight: bold\">Preprocessor: \"preprocessor_4_tweets\"</span>\n",
       "</pre>\n"
      ],
      "text/plain": [
       "\u001b[1mPreprocessor: \"preprocessor_4_tweets\"\u001b[0m\n"
      ]
     },
     "metadata": {},
     "output_type": "display_data"
    },
    {
     "data": {
      "text/html": [
       "<pre style=\"white-space:pre;overflow-x:auto;line-height:normal;font-family:Menlo,'DejaVu Sans Mono',consolas,'Courier New',monospace\">┏━━━━━━━━━━━━━━━━━━━━━━━━━━━━━━━━━━━━━━━━━━━━━━━━━━━━━━━━━━━━━━━┳━━━━━━━━━━━━━━━━━━━━━━━━━━━━━━━━━━━━━━━━━━┓\n",
       "┃<span style=\"font-weight: bold\"> Layer (type)                                                  </span>┃<span style=\"font-weight: bold\">                                   Config </span>┃\n",
       "┡━━━━━━━━━━━━━━━━━━━━━━━━━━━━━━━━━━━━━━━━━━━━━━━━━━━━━━━━━━━━━━━╇━━━━━━━━━━━━━━━━━━━━━━━━━━━━━━━━━━━━━━━━━━┩\n",
       "│ distil_bert_tokenizer (<span style=\"color: #0087ff; text-decoration-color: #0087ff\">DistilBertTokenizer</span>)                   │                       Vocab size: <span style=\"color: #00af00; text-decoration-color: #00af00\">30,522</span> │\n",
       "└───────────────────────────────────────────────────────────────┴──────────────────────────────────────────┘\n",
       "</pre>\n"
      ],
      "text/plain": [
       "┏━━━━━━━━━━━━━━━━━━━━━━━━━━━━━━━━━━━━━━━━━━━━━━━━━━━━━━━━━━━━━━━┳━━━━━━━━━━━━━━━━━━━━━━━━━━━━━━━━━━━━━━━━━━┓\n",
       "┃\u001b[1m \u001b[0m\u001b[1mLayer (type)                                                 \u001b[0m\u001b[1m \u001b[0m┃\u001b[1m \u001b[0m\u001b[1m                                  Config\u001b[0m\u001b[1m \u001b[0m┃\n",
       "┡━━━━━━━━━━━━━━━━━━━━━━━━━━━━━━━━━━━━━━━━━━━━━━━━━━━━━━━━━━━━━━━╇━━━━━━━━━━━━━━━━━━━━━━━━━━━━━━━━━━━━━━━━━━┩\n",
       "│ distil_bert_tokenizer (\u001b[38;5;33mDistilBertTokenizer\u001b[0m)                   │                       Vocab size: \u001b[38;5;34m30,522\u001b[0m │\n",
       "└───────────────────────────────────────────────────────────────┴──────────────────────────────────────────┘\n"
      ]
     },
     "metadata": {},
     "output_type": "display_data"
    },
    {
     "data": {
      "text/html": [
       "<pre style=\"white-space:pre;overflow-x:auto;line-height:normal;font-family:Menlo,'DejaVu Sans Mono',consolas,'Courier New',monospace\"><span style=\"font-weight: bold\">Model: \"distil_bert_text_classifier\"</span>\n",
       "</pre>\n"
      ],
      "text/plain": [
       "\u001b[1mModel: \"distil_bert_text_classifier\"\u001b[0m\n"
      ]
     },
     "metadata": {},
     "output_type": "display_data"
    },
    {
     "data": {
      "text/html": [
       "<pre style=\"white-space:pre;overflow-x:auto;line-height:normal;font-family:Menlo,'DejaVu Sans Mono',consolas,'Courier New',monospace\">┏━━━━━━━━━━━━━━━━━━━━━━━━━━━━━━━┳━━━━━━━━━━━━━━━━━━━━━━━━━━━┳━━━━━━━━━━━━━━━━━┳━━━━━━━━━━━━━━━━━━━━━━━━━━━━┓\n",
       "┃<span style=\"font-weight: bold\"> Layer (type)                  </span>┃<span style=\"font-weight: bold\"> Output Shape              </span>┃<span style=\"font-weight: bold\">         Param # </span>┃<span style=\"font-weight: bold\"> Connected to               </span>┃\n",
       "┡━━━━━━━━━━━━━━━━━━━━━━━━━━━━━━━╇━━━━━━━━━━━━━━━━━━━━━━━━━━━╇━━━━━━━━━━━━━━━━━╇━━━━━━━━━━━━━━━━━━━━━━━━━━━━┩\n",
       "│ padding_mask (<span style=\"color: #0087ff; text-decoration-color: #0087ff\">InputLayer</span>)     │ (<span style=\"color: #00d7ff; text-decoration-color: #00d7ff\">None</span>, <span style=\"color: #00d7ff; text-decoration-color: #00d7ff\">None</span>)              │               <span style=\"color: #00af00; text-decoration-color: #00af00\">0</span> │ -                          │\n",
       "├───────────────────────────────┼───────────────────────────┼─────────────────┼────────────────────────────┤\n",
       "│ token_ids (<span style=\"color: #0087ff; text-decoration-color: #0087ff\">InputLayer</span>)        │ (<span style=\"color: #00d7ff; text-decoration-color: #00d7ff\">None</span>, <span style=\"color: #00d7ff; text-decoration-color: #00d7ff\">None</span>)              │               <span style=\"color: #00af00; text-decoration-color: #00af00\">0</span> │ -                          │\n",
       "├───────────────────────────────┼───────────────────────────┼─────────────────┼────────────────────────────┤\n",
       "│ distil_bert_backbone          │ (<span style=\"color: #00d7ff; text-decoration-color: #00d7ff\">None</span>, <span style=\"color: #00d7ff; text-decoration-color: #00d7ff\">None</span>, <span style=\"color: #00af00; text-decoration-color: #00af00\">768</span>)         │      <span style=\"color: #00af00; text-decoration-color: #00af00\">66,362,880</span> │ padding_mask[<span style=\"color: #00af00; text-decoration-color: #00af00\">0</span>][<span style=\"color: #00af00; text-decoration-color: #00af00\">0</span>],        │\n",
       "│ (<span style=\"color: #0087ff; text-decoration-color: #0087ff\">DistilBertBackbone</span>)          │                           │                 │ token_ids[<span style=\"color: #00af00; text-decoration-color: #00af00\">0</span>][<span style=\"color: #00af00; text-decoration-color: #00af00\">0</span>]            │\n",
       "├───────────────────────────────┼───────────────────────────┼─────────────────┼────────────────────────────┤\n",
       "│ get_item (<span style=\"color: #0087ff; text-decoration-color: #0087ff\">GetItem</span>)            │ (<span style=\"color: #00d7ff; text-decoration-color: #00d7ff\">None</span>, <span style=\"color: #00af00; text-decoration-color: #00af00\">768</span>)               │               <span style=\"color: #00af00; text-decoration-color: #00af00\">0</span> │ distil_bert_backbone[<span style=\"color: #00af00; text-decoration-color: #00af00\">0</span>][<span style=\"color: #00af00; text-decoration-color: #00af00\">0</span>] │\n",
       "├───────────────────────────────┼───────────────────────────┼─────────────────┼────────────────────────────┤\n",
       "│ pooled_dense (<span style=\"color: #0087ff; text-decoration-color: #0087ff\">Dense</span>)          │ (<span style=\"color: #00d7ff; text-decoration-color: #00d7ff\">None</span>, <span style=\"color: #00af00; text-decoration-color: #00af00\">768</span>)               │         <span style=\"color: #00af00; text-decoration-color: #00af00\">590,592</span> │ get_item[<span style=\"color: #00af00; text-decoration-color: #00af00\">0</span>][<span style=\"color: #00af00; text-decoration-color: #00af00\">0</span>]             │\n",
       "├───────────────────────────────┼───────────────────────────┼─────────────────┼────────────────────────────┤\n",
       "│ output_dropout (<span style=\"color: #0087ff; text-decoration-color: #0087ff\">Dropout</span>)      │ (<span style=\"color: #00d7ff; text-decoration-color: #00d7ff\">None</span>, <span style=\"color: #00af00; text-decoration-color: #00af00\">768</span>)               │               <span style=\"color: #00af00; text-decoration-color: #00af00\">0</span> │ pooled_dense[<span style=\"color: #00af00; text-decoration-color: #00af00\">0</span>][<span style=\"color: #00af00; text-decoration-color: #00af00\">0</span>]         │\n",
       "├───────────────────────────────┼───────────────────────────┼─────────────────┼────────────────────────────┤\n",
       "│ logits (<span style=\"color: #0087ff; text-decoration-color: #0087ff\">Dense</span>)                │ (<span style=\"color: #00d7ff; text-decoration-color: #00d7ff\">None</span>, <span style=\"color: #00af00; text-decoration-color: #00af00\">2</span>)                 │           <span style=\"color: #00af00; text-decoration-color: #00af00\">1,538</span> │ output_dropout[<span style=\"color: #00af00; text-decoration-color: #00af00\">0</span>][<span style=\"color: #00af00; text-decoration-color: #00af00\">0</span>]       │\n",
       "└───────────────────────────────┴───────────────────────────┴─────────────────┴────────────────────────────┘\n",
       "</pre>\n"
      ],
      "text/plain": [
       "┏━━━━━━━━━━━━━━━━━━━━━━━━━━━━━━━┳━━━━━━━━━━━━━━━━━━━━━━━━━━━┳━━━━━━━━━━━━━━━━━┳━━━━━━━━━━━━━━━━━━━━━━━━━━━━┓\n",
       "┃\u001b[1m \u001b[0m\u001b[1mLayer (type)                 \u001b[0m\u001b[1m \u001b[0m┃\u001b[1m \u001b[0m\u001b[1mOutput Shape             \u001b[0m\u001b[1m \u001b[0m┃\u001b[1m \u001b[0m\u001b[1m        Param #\u001b[0m\u001b[1m \u001b[0m┃\u001b[1m \u001b[0m\u001b[1mConnected to              \u001b[0m\u001b[1m \u001b[0m┃\n",
       "┡━━━━━━━━━━━━━━━━━━━━━━━━━━━━━━━╇━━━━━━━━━━━━━━━━━━━━━━━━━━━╇━━━━━━━━━━━━━━━━━╇━━━━━━━━━━━━━━━━━━━━━━━━━━━━┩\n",
       "│ padding_mask (\u001b[38;5;33mInputLayer\u001b[0m)     │ (\u001b[38;5;45mNone\u001b[0m, \u001b[38;5;45mNone\u001b[0m)              │               \u001b[38;5;34m0\u001b[0m │ -                          │\n",
       "├───────────────────────────────┼───────────────────────────┼─────────────────┼────────────────────────────┤\n",
       "│ token_ids (\u001b[38;5;33mInputLayer\u001b[0m)        │ (\u001b[38;5;45mNone\u001b[0m, \u001b[38;5;45mNone\u001b[0m)              │               \u001b[38;5;34m0\u001b[0m │ -                          │\n",
       "├───────────────────────────────┼───────────────────────────┼─────────────────┼────────────────────────────┤\n",
       "│ distil_bert_backbone          │ (\u001b[38;5;45mNone\u001b[0m, \u001b[38;5;45mNone\u001b[0m, \u001b[38;5;34m768\u001b[0m)         │      \u001b[38;5;34m66,362,880\u001b[0m │ padding_mask[\u001b[38;5;34m0\u001b[0m][\u001b[38;5;34m0\u001b[0m],        │\n",
       "│ (\u001b[38;5;33mDistilBertBackbone\u001b[0m)          │                           │                 │ token_ids[\u001b[38;5;34m0\u001b[0m][\u001b[38;5;34m0\u001b[0m]            │\n",
       "├───────────────────────────────┼───────────────────────────┼─────────────────┼────────────────────────────┤\n",
       "│ get_item (\u001b[38;5;33mGetItem\u001b[0m)            │ (\u001b[38;5;45mNone\u001b[0m, \u001b[38;5;34m768\u001b[0m)               │               \u001b[38;5;34m0\u001b[0m │ distil_bert_backbone[\u001b[38;5;34m0\u001b[0m][\u001b[38;5;34m0\u001b[0m] │\n",
       "├───────────────────────────────┼───────────────────────────┼─────────────────┼────────────────────────────┤\n",
       "│ pooled_dense (\u001b[38;5;33mDense\u001b[0m)          │ (\u001b[38;5;45mNone\u001b[0m, \u001b[38;5;34m768\u001b[0m)               │         \u001b[38;5;34m590,592\u001b[0m │ get_item[\u001b[38;5;34m0\u001b[0m][\u001b[38;5;34m0\u001b[0m]             │\n",
       "├───────────────────────────────┼───────────────────────────┼─────────────────┼────────────────────────────┤\n",
       "│ output_dropout (\u001b[38;5;33mDropout\u001b[0m)      │ (\u001b[38;5;45mNone\u001b[0m, \u001b[38;5;34m768\u001b[0m)               │               \u001b[38;5;34m0\u001b[0m │ pooled_dense[\u001b[38;5;34m0\u001b[0m][\u001b[38;5;34m0\u001b[0m]         │\n",
       "├───────────────────────────────┼───────────────────────────┼─────────────────┼────────────────────────────┤\n",
       "│ logits (\u001b[38;5;33mDense\u001b[0m)                │ (\u001b[38;5;45mNone\u001b[0m, \u001b[38;5;34m2\u001b[0m)                 │           \u001b[38;5;34m1,538\u001b[0m │ output_dropout[\u001b[38;5;34m0\u001b[0m][\u001b[38;5;34m0\u001b[0m]       │\n",
       "└───────────────────────────────┴───────────────────────────┴─────────────────┴────────────────────────────┘\n"
      ]
     },
     "metadata": {},
     "output_type": "display_data"
    },
    {
     "data": {
      "text/html": [
       "<pre style=\"white-space:pre;overflow-x:auto;line-height:normal;font-family:Menlo,'DejaVu Sans Mono',consolas,'Courier New',monospace\"><span style=\"font-weight: bold\"> Total params: </span><span style=\"color: #00af00; text-decoration-color: #00af00\">66,955,010</span> (255.41 MB)\n",
       "</pre>\n"
      ],
      "text/plain": [
       "\u001b[1m Total params: \u001b[0m\u001b[38;5;34m66,955,010\u001b[0m (255.41 MB)\n"
      ]
     },
     "metadata": {},
     "output_type": "display_data"
    },
    {
     "data": {
      "text/html": [
       "<pre style=\"white-space:pre;overflow-x:auto;line-height:normal;font-family:Menlo,'DejaVu Sans Mono',consolas,'Courier New',monospace\"><span style=\"font-weight: bold\"> Trainable params: </span><span style=\"color: #00af00; text-decoration-color: #00af00\">66,955,010</span> (255.41 MB)\n",
       "</pre>\n"
      ],
      "text/plain": [
       "\u001b[1m Trainable params: \u001b[0m\u001b[38;5;34m66,955,010\u001b[0m (255.41 MB)\n"
      ]
     },
     "metadata": {},
     "output_type": "display_data"
    },
    {
     "data": {
      "text/html": [
       "<pre style=\"white-space:pre;overflow-x:auto;line-height:normal;font-family:Menlo,'DejaVu Sans Mono',consolas,'Courier New',monospace\"><span style=\"font-weight: bold\"> Non-trainable params: </span><span style=\"color: #00af00; text-decoration-color: #00af00\">0</span> (0.00 B)\n",
       "</pre>\n"
      ],
      "text/plain": [
       "\u001b[1m Non-trainable params: \u001b[0m\u001b[38;5;34m0\u001b[0m (0.00 B)\n"
      ]
     },
     "metadata": {},
     "output_type": "display_data"
    }
   ],
   "source": [
    "# Load a DistilBERT model.\n",
    "preset= \"distil_bert_base_en_uncased\"\n",
    "\n",
    "# Use a shorter sequence length.\n",
    "tokenizer_dist = keras_nlp.models.DistilBertPreprocessor.from_preset(preset,\n",
    "                                                                   sequence_length=160,\n",
    "                                                                   name=\"preprocessor_4_tweets\"\n",
    "                                                                  )\n",
    "\n",
    "# Load pretrained DistilBERT classifier\n",
    "model_distil = keras_nlp.models.DistilBertClassifier.from_preset(preset,\n",
    "                                                               preprocessor = tokenizer_dist, \n",
    "                                                               num_classes=2)\n",
    "\n",
    "model_distil.summary()"
   ]
  },
  {
   "cell_type": "markdown",
   "metadata": {},
   "source": [
    "### 2. Training configuration:"
   ]
  },
  {
   "cell_type": "code",
   "execution_count": 104,
   "metadata": {
    "execution": {
     "iopub.execute_input": "2025-02-24T02:52:30.044133Z",
     "iopub.status.busy": "2025-02-24T02:52:30.043788Z",
     "iopub.status.idle": "2025-02-24T02:52:30.048482Z",
     "shell.execute_reply": "2025-02-24T02:52:30.047445Z",
     "shell.execute_reply.started": "2025-02-24T02:52:30.044108Z"
    }
   },
   "outputs": [],
   "source": [
    "# Set training parameters\n",
    "batch_size2 = 72\n",
    "num_training_examples2= df_train.shape[0]\n",
    "steps_per_epoch = int(num_training_examples2)*(1-val_split) // batch_size2\n",
    "\n",
    "epochs2 = 17\n",
    "AUTO = tf.data.experimental.AUTOTUNE"
   ]
  },
  {
   "cell_type": "markdown",
   "metadata": {},
   "source": [
    "### 3. Model compilation and training:"
   ]
  },
  {
   "cell_type": "code",
   "execution_count": 105,
   "metadata": {
    "execution": {
     "iopub.execute_input": "2025-02-24T02:52:32.751240Z",
     "iopub.status.busy": "2025-02-24T02:52:32.750818Z",
     "iopub.status.idle": "2025-02-24T03:07:05.221539Z",
     "shell.execute_reply": "2025-02-24T03:07:05.220768Z",
     "shell.execute_reply.started": "2025-02-24T02:52:32.751203Z"
    }
   },
   "outputs": [
    {
     "name": "stdout",
     "output_type": "stream",
     "text": [
      "Epoch 1/17\n",
      "\u001b[1m106/106\u001b[0m \u001b[32m━━━━━━━━━━━━━━━━━━━━\u001b[0m\u001b[37m\u001b[0m \u001b[1m95s\u001b[0m 602ms/step - accuracy: 0.8466 - loss: 0.3882\n",
      "Epoch 2/17\n",
      "\u001b[1m106/106\u001b[0m \u001b[32m━━━━━━━━━━━━━━━━━━━━\u001b[0m\u001b[37m\u001b[0m \u001b[1m49s\u001b[0m 456ms/step - accuracy: 0.8509 - loss: 0.3836\n",
      "Epoch 3/17\n",
      "\u001b[1m106/106\u001b[0m \u001b[32m━━━━━━━━━━━━━━━━━━━━\u001b[0m\u001b[37m\u001b[0m \u001b[1m49s\u001b[0m 456ms/step - accuracy: 0.8482 - loss: 0.3809\n",
      "Epoch 4/17\n",
      "\u001b[1m106/106\u001b[0m \u001b[32m━━━━━━━━━━━━━━━━━━━━\u001b[0m\u001b[37m\u001b[0m \u001b[1m49s\u001b[0m 456ms/step - accuracy: 0.8512 - loss: 0.3789\n",
      "Epoch 5/17\n",
      "\u001b[1m106/106\u001b[0m \u001b[32m━━━━━━━━━━━━━━━━━━━━\u001b[0m\u001b[37m\u001b[0m \u001b[1m48s\u001b[0m 455ms/step - accuracy: 0.8518 - loss: 0.3748\n",
      "Epoch 6/17\n",
      "\u001b[1m106/106\u001b[0m \u001b[32m━━━━━━━━━━━━━━━━━━━━\u001b[0m\u001b[37m\u001b[0m \u001b[1m48s\u001b[0m 455ms/step - accuracy: 0.8510 - loss: 0.3726\n",
      "Epoch 7/17\n",
      "\u001b[1m106/106\u001b[0m \u001b[32m━━━━━━━━━━━━━━━━━━━━\u001b[0m\u001b[37m\u001b[0m \u001b[1m48s\u001b[0m 455ms/step - accuracy: 0.8542 - loss: 0.3668\n",
      "Epoch 8/17\n",
      "\u001b[1m106/106\u001b[0m \u001b[32m━━━━━━━━━━━━━━━━━━━━\u001b[0m\u001b[37m\u001b[0m \u001b[1m48s\u001b[0m 455ms/step - accuracy: 0.8534 - loss: 0.3650\n",
      "Epoch 9/17\n",
      "\u001b[1m106/106\u001b[0m \u001b[32m━━━━━━━━━━━━━━━━━━━━\u001b[0m\u001b[37m\u001b[0m \u001b[1m48s\u001b[0m 455ms/step - accuracy: 0.8537 - loss: 0.3633\n",
      "Epoch 10/17\n",
      "\u001b[1m106/106\u001b[0m \u001b[32m━━━━━━━━━━━━━━━━━━━━\u001b[0m\u001b[37m\u001b[0m \u001b[1m48s\u001b[0m 455ms/step - accuracy: 0.8590 - loss: 0.3600\n",
      "Epoch 11/17\n",
      "\u001b[1m106/106\u001b[0m \u001b[32m━━━━━━━━━━━━━━━━━━━━\u001b[0m\u001b[37m\u001b[0m \u001b[1m49s\u001b[0m 456ms/step - accuracy: 0.8578 - loss: 0.3587\n",
      "Epoch 12/17\n",
      "\u001b[1m106/106\u001b[0m \u001b[32m━━━━━━━━━━━━━━━━━━━━\u001b[0m\u001b[37m\u001b[0m \u001b[1m48s\u001b[0m 455ms/step - accuracy: 0.8561 - loss: 0.3567\n",
      "Epoch 13/17\n",
      "\u001b[1m106/106\u001b[0m \u001b[32m━━━━━━━━━━━━━━━━━━━━\u001b[0m\u001b[37m\u001b[0m \u001b[1m49s\u001b[0m 457ms/step - accuracy: 0.8600 - loss: 0.3511\n",
      "Epoch 14/17\n",
      "\u001b[1m106/106\u001b[0m \u001b[32m━━━━━━━━━━━━━━━━━━━━\u001b[0m\u001b[37m\u001b[0m \u001b[1m49s\u001b[0m 457ms/step - accuracy: 0.8615 - loss: 0.3511\n",
      "Epoch 15/17\n",
      "\u001b[1m106/106\u001b[0m \u001b[32m━━━━━━━━━━━━━━━━━━━━\u001b[0m\u001b[37m\u001b[0m \u001b[1m49s\u001b[0m 457ms/step - accuracy: 0.8603 - loss: 0.3498\n",
      "Epoch 16/17\n",
      "\u001b[1m106/106\u001b[0m \u001b[32m━━━━━━━━━━━━━━━━━━━━\u001b[0m\u001b[37m\u001b[0m \u001b[1m49s\u001b[0m 457ms/step - accuracy: 0.8639 - loss: 0.3494\n",
      "Epoch 17/17\n",
      "\u001b[1m106/106\u001b[0m \u001b[32m━━━━━━━━━━━━━━━━━━━━\u001b[0m\u001b[37m\u001b[0m \u001b[1m49s\u001b[0m 457ms/step - accuracy: 0.8638 - loss: 0.3473\n"
     ]
    }
   ],
   "source": [
    "# Compile model\n",
    "model_distil.compile(\n",
    "    loss=keras.losses.SparseCategoricalCrossentropy(from_logits=True), #'binary_crossentropy',\n",
    "    optimizer=keras.optimizers.Adam(5e-7),\n",
    "    metrics= [\"accuracy\"]  \n",
    ")\n",
    "\n",
    "# Train model\n",
    "history_distil = model_distil.fit(x=X,\n",
    "                         y=y,\n",
    "                         batch_size=batch_size2,\n",
    "                         epochs=epochs2\n",
    "                          \n",
    "                        )"
   ]
  },
  {
   "cell_type": "markdown",
   "metadata": {},
   "source": [
    "### 4. Evaluation and prediction:"
   ]
  },
  {
   "cell_type": "code",
   "execution_count": 106,
   "metadata": {
    "execution": {
     "iopub.execute_input": "2025-02-24T03:08:20.550113Z",
     "iopub.status.busy": "2025-02-24T03:08:20.549771Z",
     "iopub.status.idle": "2025-02-24T03:08:20.555385Z",
     "shell.execute_reply": "2025-02-24T03:08:20.554378Z",
     "shell.execute_reply.started": "2025-02-24T03:08:20.550089Z"
    }
   },
   "outputs": [],
   "source": [
    "# Helper function to display confusion matrix\n",
    "def displayConfusionMatrix(y_true, y_pred, dataset):\n",
    "    disp = ConfusionMatrixDisplay.from_predictions(\n",
    "        y_true,\n",
    "        np.argmax(y_pred, axis=1),\n",
    "        display_labels=[\"Not Disaster\",\"Disaster\"],\n",
    "        cmap=plt.cm.Blues\n",
    "    )\n",
    "\n",
    "    tn, fp, fn, tp = confusion_matrix(y_true, np.argmax(y_pred, axis=1)).ravel()\n",
    "    f1_score = tp / (tp+((fn+fp)/2))\n",
    "\n",
    "    disp.ax_.set_title(\"Confusion Matrix on \" + dataset + \" Dataset -- F1 Score: \" + str(f1_score.round(2)))"
   ]
  },
  {
   "cell_type": "markdown",
   "metadata": {},
   "source": [
    "#### 5. Performance Prediction"
   ]
  },
  {
   "cell_type": "code",
   "execution_count": 107,
   "metadata": {
    "execution": {
     "iopub.execute_input": "2025-02-24T03:08:23.300789Z",
     "iopub.status.busy": "2025-02-24T03:08:23.300466Z",
     "iopub.status.idle": "2025-02-24T03:08:34.215289Z",
     "shell.execute_reply": "2025-02-24T03:08:34.214366Z",
     "shell.execute_reply.started": "2025-02-24T03:08:23.300763Z"
    }
   },
   "outputs": [
    {
     "name": "stdout",
     "output_type": "stream",
     "text": [
      "\u001b[1m48/48\u001b[0m \u001b[32m━━━━━━━━━━━━━━━━━━━━\u001b[0m\u001b[37m\u001b[0m \u001b[1m10s\u001b[0m 138ms/step\n"
     ]
    },
    {
     "data": {
      "image/png": "[encoded data removed]",
      "text/plain": [
       "<Figure size 640x480 with 2 Axes>"
      ]
     },
     "metadata": {},
     "output_type": "display_data"
    }
   ],
   "source": [
    "# Generate predictions and display confusion matrix\n",
    "y_pred_val = model_distil.predict(X_val)\n",
    "\n",
    "displayConfusionMatrix(y_val, y_pred_val, \"Validation\")"
   ]
  },
  {
   "cell_type": "code",
   "execution_count": null,
   "metadata": {
    "execution": {
     "iopub.execute_input": "2025-02-23T23:47:31.875282Z",
     "iopub.status.busy": "2025-02-23T23:47:31.874952Z",
     "iopub.status.idle": "2025-02-23T23:47:32.051513Z",
     "shell.execute_reply": "2025-02-23T23:47:32.050678Z",
     "shell.execute_reply.started": "2025-02-23T23:47:31.875259Z"
    }
   },
   "outputs": [],
   "source": [
    "# Plot training and test accuracy\n",
    "plt.figure(figsize=(10, 5))\n",
    "plt.plot(history_distil.history['accuracy'], label='Train Accuracy')\n",
    "plt.plot(history_distil.history['val_accuracy'], label='Test Accuracy')\n",
    "plt.xlabel('Epoch')\n",
    "plt.ylabel('Accuracy')\n",
    "plt.legend()\n",
    "plt.title('Train and Test Accuracy roBERTa')\n",
    "plt.show()"
   ]
  },
  {
   "cell_type": "markdown",
   "metadata": {},
   "source": [
    "### 6. Model Saving"
   ]
  },
  {
   "cell_type": "code",
   "execution_count": 108,
   "metadata": {
    "execution": {
     "iopub.execute_input": "2025-02-24T03:08:43.436411Z",
     "iopub.status.busy": "2025-02-24T03:08:43.436059Z",
     "iopub.status.idle": "2025-02-24T03:08:53.410717Z",
     "shell.execute_reply": "2025-02-24T03:08:53.409875Z",
     "shell.execute_reply.started": "2025-02-24T03:08:43.436377Z"
    }
   },
   "outputs": [
    {
     "name": "stdout",
     "output_type": "stream",
     "text": [
      "\u001b[1m102/102\u001b[0m \u001b[32m━━━━━━━━━━━━━━━━━━━━\u001b[0m\u001b[37m\u001b[0m \u001b[1m9s\u001b[0m 88ms/step\n"
     ]
    }
   ],
   "source": [
    "# Prepare submission dataframe\n",
    "submission_distil = pd.DataFrame()\n",
    "submission_distil['id'] = df_test['id']\n",
    "submission_distil[\"target\"] = np.argmax(model_distil.predict(X_test), axis=1)"
   ]
  },
  {
   "cell_type": "code",
   "execution_count": 109,
   "metadata": {
    "execution": {
     "iopub.execute_input": "2025-02-24T03:09:35.526731Z",
     "iopub.status.busy": "2025-02-24T03:09:35.526424Z",
     "iopub.status.idle": "2025-02-24T03:09:35.534286Z",
     "shell.execute_reply": "2025-02-24T03:09:35.533611Z",
     "shell.execute_reply.started": "2025-02-24T03:09:35.526706Z"
    }
   },
   "outputs": [],
   "source": [
    "# Save predictions to CSV file\n",
    "submission_distil.to_csv(\"submission_distil.csv\",index=False)"
   ]
  },
  {
   "cell_type": "markdown",
   "metadata": {},
   "source": [
    "## c. deBERTa\n",
    "\n",
    "We implement Microsoft's DeBERTa model, which enhances BERT with disentangled attention mechanisms:"
   ]
  },
  {
   "cell_type": "code",
   "execution_count": 112,
   "metadata": {
    "execution": {
     "iopub.execute_input": "2025-02-24T03:18:15.977723Z",
     "iopub.status.busy": "2025-02-24T03:18:15.977369Z",
     "iopub.status.idle": "2025-02-24T03:18:15.981894Z",
     "shell.execute_reply": "2025-02-24T03:18:15.980891Z",
     "shell.execute_reply.started": "2025-02-24T03:18:15.977698Z"
    }
   },
   "outputs": [],
   "source": [
    "from transformers import TFAutoModelForSequenceClassification, AutoTokenizer, create_optimizer"
   ]
  },
  {
   "cell_type": "markdown",
   "metadata": {},
   "source": [
    "### 1. Model and tokenizer initialization:"
   ]
  },
  {
   "cell_type": "code",
   "execution_count": 113,
   "metadata": {
    "execution": {
     "iopub.execute_input": "2025-02-24T03:18:18.773225Z",
     "iopub.status.busy": "2025-02-24T03:18:18.772917Z",
     "iopub.status.idle": "2025-02-24T03:18:20.934797Z",
     "shell.execute_reply": "2025-02-24T03:18:20.933791Z",
     "shell.execute_reply.started": "2025-02-24T03:18:18.773202Z"
    }
   },
   "outputs": [
    {
     "data": {
      "application/vnd.jupyter.widget-view+json": {
       "model_id": "e59cdb722af34377b980bf49cf88b200",
       "version_major": 2,
       "version_minor": 0
      },
      "text/plain": [
       "tokenizer_config.json:   0%|          | 0.00/52.0 [00:00<?, ?B/s]"
      ]
     },
     "metadata": {},
     "output_type": "display_data"
    },
    {
     "data": {
      "application/vnd.jupyter.widget-view+json": {
       "model_id": "b765555759df4c4ba57757d0a0420b14",
       "version_major": 2,
       "version_minor": 0
      },
      "text/plain": [
       "config.json:   0%|          | 0.00/579 [00:00<?, ?B/s]"
      ]
     },
     "metadata": {},
     "output_type": "display_data"
    },
    {
     "data": {
      "application/vnd.jupyter.widget-view+json": {
       "model_id": "e3b2357a458b4dc8ae139418bd7f205a",
       "version_major": 2,
       "version_minor": 0
      },
      "text/plain": [
       "spm.model:   0%|          | 0.00/2.46M [00:00<?, ?B/s]"
      ]
     },
     "metadata": {},
     "output_type": "display_data"
    },
    {
     "name": "stderr",
     "output_type": "stream",
     "text": [
      "/usr/local/lib/python3.10/dist-packages/transformers/convert_slow_tokenizer.py:561: UserWarning: The sentencepiece tokenizer that you are converting to a fast tokenizer uses the byte fallback option which is not implemented in the fast tokenizers. In practice this means that the fast version of the tokenizer can produce unknown tokens whereas the sentencepiece version would have converted these unknown tokens into a sequence of byte tokens matching the original piece of text.\n",
      "  warnings.warn(\n"
     ]
    }
   ],
   "source": [
    "# Load deBERTa tokenizer and model for sequence classification tasks\n",
    "MODEL_NAME = \"microsoft/deberta-v3-base\"\n",
    "tokenizer_deberta = AutoTokenizer.from_pretrained(MODEL_NAME)"
   ]
  },
  {
   "cell_type": "markdown",
   "metadata": {},
   "source": [
    "### 2. 2. Data tokenization function:"
   ]
  },
  {
   "cell_type": "code",
   "execution_count": 114,
   "metadata": {
    "execution": {
     "iopub.execute_input": "2025-02-24T03:18:25.057006Z",
     "iopub.status.busy": "2025-02-24T03:18:25.056680Z",
     "iopub.status.idle": "2025-02-24T03:18:25.061468Z",
     "shell.execute_reply": "2025-02-24T03:18:25.060459Z",
     "shell.execute_reply.started": "2025-02-24T03:18:25.056977Z"
    }
   },
   "outputs": [],
   "source": [
    "# Define function to tokenize texts using DeBERTa tokenizer\n",
    "def tokenize_deberta(texts, labels, max_length=160):\n",
    "    encodings = tokenizer_deberta(texts.tolist(), truncation=True, padding=True, max_length=max_length, return_tensors=\"tf\")\n",
    "    return encodings, tf.convert_to_tensor(labels, dtype=tf.int32)"
   ]
  },
  {
   "cell_type": "markdown",
   "metadata": {},
   "source": [
    "### 3. Tokenize training and validation data"
   ]
  },
  {
   "cell_type": "code",
   "execution_count": 115,
   "metadata": {
    "execution": {
     "iopub.execute_input": "2025-02-24T03:18:29.174190Z",
     "iopub.status.busy": "2025-02-24T03:18:29.173897Z",
     "iopub.status.idle": "2025-02-24T03:18:30.652526Z",
     "shell.execute_reply": "2025-02-24T03:18:30.651769Z",
     "shell.execute_reply.started": "2025-02-24T03:18:29.174166Z"
    }
   },
   "outputs": [],
   "source": [
    "# Tokenize training and validation data\n",
    "train_encodings_deberta, train_labels_deberta = tokenize_deberta(X_train, y_train)\n",
    "test_encodings_deberta, test_labels_deberta = tokenize_deberta(X_val, y_val)\n",
    "fulltrain_encodings_deberta, fulltrain_labels_deberta = tokenize_deberta(X, y)"
   ]
  },
  {
   "cell_type": "markdown",
   "metadata": {},
   "source": [
    "### 4. Model training configuration & training:"
   ]
  },
  {
   "cell_type": "code",
   "execution_count": 121,
   "metadata": {
    "execution": {
     "iopub.execute_input": "2025-02-24T03:21:21.008651Z",
     "iopub.status.busy": "2025-02-24T03:21:21.008260Z",
     "iopub.status.idle": "2025-02-24T03:21:22.957167Z",
     "shell.execute_reply": "2025-02-24T03:21:22.956550Z",
     "shell.execute_reply.started": "2025-02-24T03:21:21.008625Z"
    }
   },
   "outputs": [
    {
     "name": "stderr",
     "output_type": "stream",
     "text": [
      "All model checkpoint layers were used when initializing TFDebertaV2ForSequenceClassification.\n",
      "\n",
      "Some layers of TFDebertaV2ForSequenceClassification were not initialized from the model checkpoint at microsoft/deberta-v3-base and are newly initialized: ['classifier', 'pooler', 'cls_dropout']\n",
      "You should probably TRAIN this model on a down-stream task to be able to use it for predictions and inference.\n"
     ]
    }
   ],
   "source": [
    "# ✅ Load Pretrained DeBERTa Model for Binary Classification\n",
    "model_deberta = TFAutoModelForSequenceClassification.from_pretrained(MODEL_NAME, num_labels=1)  # num_labels=1 for BCE Loss\n",
    "\n",
    "# ✅ Learning Rate Schedule\n",
    "batch_size3 = 72\n",
    "num_epochs3 = 17\n",
    "steps_per_epoch3 = len(X_train) // batch_size3\n",
    "total_steps3 = steps_per_epoch3 * num_epochs3\n",
    "\n",
    "optimizer, _ = create_optimizer(\n",
    "    init_lr=1e-6,  # Initial Learning Rate\n",
    "    num_train_steps=total_steps3,\n",
    "    num_warmup_steps=int(0.1 * total_steps3),\n",
    "    weight_decay_rate=0.01\n",
    ")\n",
    "\n",
    "# ✅ Compile Model\n",
    "model_deberta.compile(\n",
    "    optimizer=optimizer,\n",
    "    loss=tf.keras.losses.BinaryCrossentropy(from_logits=True),  # BCE Loss for single output\n",
    "    metrics=[\"accuracy\"]\n",
    ")"
   ]
  },
  {
   "cell_type": "code",
   "execution_count": 123,
   "metadata": {
    "execution": {
     "iopub.execute_input": "2025-02-24T03:50:36.280833Z",
     "iopub.status.busy": "2025-02-24T03:50:36.280544Z",
     "iopub.status.idle": "2025-02-24T04:12:29.001176Z",
     "shell.execute_reply": "2025-02-24T04:12:29.000446Z",
     "shell.execute_reply.started": "2025-02-24T03:50:36.280810Z"
    }
   },
   "outputs": [
    {
     "name": "stdout",
     "output_type": "stream",
     "text": [
      "Epoch 1/17\n",
      "106/106 [==============================] - 77s 725ms/step - loss: 0.3678 - accuracy: 0.8488\n",
      "Epoch 2/17\n",
      "106/106 [==============================] - 77s 730ms/step - loss: 0.3659 - accuracy: 0.8529\n",
      "Epoch 3/17\n",
      "106/106 [==============================] - 77s 727ms/step - loss: 0.3713 - accuracy: 0.8475\n",
      "Epoch 4/17\n",
      "106/106 [==============================] - 77s 727ms/step - loss: 0.3685 - accuracy: 0.8491\n",
      "Epoch 5/17\n",
      "106/106 [==============================] - 77s 728ms/step - loss: 0.3675 - accuracy: 0.8489\n",
      "Epoch 6/17\n",
      "106/106 [==============================] - 77s 729ms/step - loss: 0.3675 - accuracy: 0.8479\n",
      "Epoch 7/17\n",
      "106/106 [==============================] - 77s 730ms/step - loss: 0.3648 - accuracy: 0.8514\n",
      "Epoch 8/17\n",
      "106/106 [==============================] - 77s 728ms/step - loss: 0.3709 - accuracy: 0.8487\n",
      "Epoch 9/17\n",
      "106/106 [==============================] - 78s 731ms/step - loss: 0.3657 - accuracy: 0.8495\n",
      "Epoch 10/17\n",
      "106/106 [==============================] - 77s 730ms/step - loss: 0.3646 - accuracy: 0.8546\n",
      "Epoch 11/17\n",
      "106/106 [==============================] - 77s 727ms/step - loss: 0.3698 - accuracy: 0.8485\n",
      "Epoch 12/17\n",
      "106/106 [==============================] - 77s 727ms/step - loss: 0.3650 - accuracy: 0.8522\n",
      "Epoch 13/17\n",
      "106/106 [==============================] - 77s 728ms/step - loss: 0.3680 - accuracy: 0.8472\n",
      "Epoch 14/17\n",
      "106/106 [==============================] - 77s 728ms/step - loss: 0.3690 - accuracy: 0.8505\n",
      "Epoch 15/17\n",
      "106/106 [==============================] - 77s 730ms/step - loss: 0.3694 - accuracy: 0.8504\n",
      "Epoch 16/17\n",
      "106/106 [==============================] - 77s 730ms/step - loss: 0.3677 - accuracy: 0.8493\n",
      "Epoch 17/17\n",
      "106/106 [==============================] - 77s 727ms/step - loss: 0.3699 - accuracy: 0.8464\n"
     ]
    },
    {
     "data": {
      "text/plain": [
       "<tf_keras.src.callbacks.History at 0x7ebcd72a6680>"
      ]
     },
     "execution_count": 123,
     "metadata": {},
     "output_type": "execute_result"
    }
   ],
   "source": [
    "# Train Model\n",
    "model_deberta.fit(\n",
    "    x={\"input_ids\": fulltrain_encodings_deberta[\"input_ids\"], \"attention_mask\": fulltrain_encodings_deberta[\"attention_mask\"]},\n",
    "    y=fulltrain_labels_deberta,  # Ensure labels are shape (num_samples, 1)\n",
    "    batch_size=batch_size3,\n",
    "    epochs=num_epochs3\n",
    ")"
   ]
  },
  {
   "cell_type": "markdown",
   "metadata": {},
   "source": [
    "### 5. Performance Visualization"
   ]
  },
  {
   "cell_type": "code",
   "execution_count": 35,
   "metadata": {
    "execution": {
     "iopub.execute_input": "2025-02-17T21:24:51.885680Z",
     "iopub.status.busy": "2025-02-17T21:24:51.885391Z",
     "iopub.status.idle": "2025-02-17T21:24:52.080756Z",
     "shell.execute_reply": "2025-02-17T21:24:52.079904Z",
     "shell.execute_reply.started": "2025-02-17T21:24:51.885658Z"
    }
   },
   "outputs": [
    {
     "data": {
      "image/png": "[encoded data removed]",
      "text/plain": [
       "<Figure size 1000x500 with 1 Axes>"
      ]
     },
     "metadata": {},
     "output_type": "display_data"
    }
   ],
   "source": [
    "# Plot training and test accuracy\n",
    "plt.figure(figsize=(10, 5))\n",
    "plt.plot(model_deberta.history.history['accuracy'], label='Train Accuracy') # Access history data using history.history\n",
    "plt.plot(model_deberta.history.history['val_accuracy'], label='Test Accuracy') # Access history data using history.history\n",
    "plt.xlabel('Epoch')\n",
    "plt.ylabel('Accuracy')\n",
    "plt.legend()\n",
    "plt.title('Train and Test Accuracy - deBERTa')\n",
    "plt.show()"
   ]
  },
  {
   "cell_type": "markdown",
   "metadata": {},
   "source": [
    "### 6. Model Evaluation and prediction"
   ]
  },
  {
   "cell_type": "code",
   "execution_count": 124,
   "metadata": {
    "execution": {
     "iopub.execute_input": "2025-02-24T04:13:43.167431Z",
     "iopub.status.busy": "2025-02-24T04:13:43.167068Z",
     "iopub.status.idle": "2025-02-24T04:13:52.650124Z",
     "shell.execute_reply": "2025-02-24T04:13:52.649238Z",
     "shell.execute_reply.started": "2025-02-24T04:13:43.167397Z"
    }
   },
   "outputs": [
    {
     "name": "stdout",
     "output_type": "stream",
     "text": [
      "48/48 [==============================] - 9s 95ms/step\n"
     ]
    }
   ],
   "source": [
    "# Generate predictions on validation set\n",
    "y_deberta_logits = model_deberta.predict({\"input_ids\": test_encodings_deberta[\"input_ids\"], \"attention_mask\": test_encodings_deberta[\"attention_mask\"]})\n",
    "y_deberta_probs = tf.nn.sigmoid(y_deberta_logits.logits).numpy()\n",
    "# Convert probabilities to class labels\n",
    "y_deberta_labels = (y_deberta_probs > 0.5).astype(int).flatten()"
   ]
  },
  {
   "cell_type": "code",
   "execution_count": 37,
   "metadata": {
    "execution": {
     "iopub.execute_input": "2025-02-17T21:25:40.509442Z",
     "iopub.status.busy": "2025-02-17T21:25:40.509075Z",
     "iopub.status.idle": "2025-02-17T21:25:41.375380Z",
     "shell.execute_reply": "2025-02-17T21:25:41.374408Z",
     "shell.execute_reply.started": "2025-02-17T21:25:40.509409Z"
    }
   },
   "outputs": [
    {
     "name": "stdout",
     "output_type": "stream",
     "text": [
      "F1 Score: 0.8050117462803444\n"
     ]
    },
    {
     "data": {
      "image/png": "[encoded data removed]",
      "text/plain": [
       "<Figure size 640x480 with 2 Axes>"
      ]
     },
     "metadata": {},
     "output_type": "display_data"
    }
   ],
   "source": [
    "# Calculate the F1 score\n",
    "f1 = f1_score(y_val, y_deberta_labels)\n",
    "print(f\"F1 Score: {f1}\")\n",
    "\n",
    "# Create the confusion matrix\n",
    "cm = confusion_matrix(y_val, y_deberta_labels)\n",
    "\n",
    "# Plot the confusion matrix\n",
    "disp = ConfusionMatrixDisplay(confusion_matrix=cm)\n",
    "disp.plot(cmap=plt.cm.Blues)\n",
    "plt.show()"
   ]
  },
  {
   "cell_type": "code",
   "execution_count": 125,
   "metadata": {
    "execution": {
     "iopub.execute_input": "2025-02-24T04:13:57.183196Z",
     "iopub.status.busy": "2025-02-24T04:13:57.182873Z",
     "iopub.status.idle": "2025-02-24T04:14:07.181654Z",
     "shell.execute_reply": "2025-02-24T04:14:07.180905Z",
     "shell.execute_reply.started": "2025-02-24T04:13:57.183167Z"
    }
   },
   "outputs": [
    {
     "name": "stdout",
     "output_type": "stream",
     "text": [
      "102/102 [==============================] - 10s 95ms/step\n"
     ]
    }
   ],
   "source": [
    "test_encodings_deberta = tokenizer_deberta(df_test['text'].tolist(), truncation=True, padding=True, max_length=128, return_tensors=\"tf\")\n",
    "y_deberta_logits = model_deberta.predict({\"input_ids\": test_encodings_deberta[\"input_ids\"], \"attention_mask\": test_encodings_deberta[\"attention_mask\"]})\n",
    "y_deberta_probs = tf.nn.sigmoid(y_deberta_logits.logits).numpy()\n",
    "y_deberta_labels = (y_deberta_probs > 0.5).astype(int).flatten()"
   ]
  },
  {
   "cell_type": "code",
   "execution_count": 126,
   "metadata": {
    "execution": {
     "iopub.execute_input": "2025-02-24T04:14:08.050044Z",
     "iopub.status.busy": "2025-02-24T04:14:08.049747Z",
     "iopub.status.idle": "2025-02-24T04:14:08.055898Z",
     "shell.execute_reply": "2025-02-24T04:14:08.055012Z",
     "shell.execute_reply.started": "2025-02-24T04:14:08.050017Z"
    }
   },
   "outputs": [],
   "source": [
    "# Prepare submission dataframe\n",
    "submit_deberta = pd.DataFrame()\n",
    "submit_deberta['id'] = df_test['id']"
   ]
  },
  {
   "cell_type": "markdown",
   "metadata": {},
   "source": [
    "### 7. Model saving:"
   ]
  },
  {
   "cell_type": "code",
   "execution_count": 127,
   "metadata": {
    "execution": {
     "iopub.execute_input": "2025-02-24T04:14:11.974474Z",
     "iopub.status.busy": "2025-02-24T04:14:11.974123Z",
     "iopub.status.idle": "2025-02-24T04:14:14.277323Z",
     "shell.execute_reply": "2025-02-24T04:14:14.276330Z",
     "shell.execute_reply.started": "2025-02-24T04:14:11.974442Z"
    }
   },
   "outputs": [
    {
     "data": {
      "text/plain": [
       "('./saved_deberta_tf_model/tokenizer_config.json',\n",
       " './saved_deberta_tf_model/special_tokens_map.json',\n",
       " './saved_deberta_tf_model/spm.model',\n",
       " './saved_deberta_tf_model/added_tokens.json',\n",
       " './saved_deberta_tf_model/tokenizer.json')"
      ]
     },
     "execution_count": 127,
     "metadata": {},
     "output_type": "execute_result"
    }
   ],
   "source": [
    "# Save trained model and tokenizer\n",
    "save_directory = \"./saved_deberta_tf_model\"\n",
    "model_deberta.save_pretrained(save_directory)\n",
    "tokenizer_deberta.save_pretrained(save_directory)"
   ]
  },
  {
   "cell_type": "code",
   "execution_count": 128,
   "metadata": {
    "execution": {
     "iopub.execute_input": "2025-02-24T04:14:17.421137Z",
     "iopub.status.busy": "2025-02-24T04:14:17.420790Z",
     "iopub.status.idle": "2025-02-24T04:14:17.429020Z",
     "shell.execute_reply": "2025-02-24T04:14:17.428324Z",
     "shell.execute_reply.started": "2025-02-24T04:14:17.421106Z"
    }
   },
   "outputs": [],
   "source": [
    "# Save predictions to CSV file\n",
    "submit_deberta['target'] = y_deberta_labels\n",
    "submit_deberta.to_csv('/kaggle/working/submission_deberta.csv', index=False)"
   ]
  },
  {
   "cell_type": "markdown",
   "metadata": {},
   "source": [
    "## 3. Ensembling Models for Improved Predictions"
   ]
  },
  {
   "cell_type": "code",
   "execution_count": 129,
   "metadata": {
    "execution": {
     "iopub.execute_input": "2025-02-24T04:14:59.122637Z",
     "iopub.status.busy": "2025-02-24T04:14:59.122264Z",
     "iopub.status.idle": "2025-02-24T04:14:59.149111Z",
     "shell.execute_reply": "2025-02-24T04:14:59.148507Z",
     "shell.execute_reply.started": "2025-02-24T04:14:59.122608Z"
    }
   },
   "outputs": [],
   "source": [
    "import pandas as pd\n",
    "from collections import Counter\n",
    "\n",
    "# Load submission files (replace 'submission1.csv', 'submission2.csv', 'submission3.csv' with actual file names)\n",
    "sub1 = pd.read_csv(\"submission_deberta.csv\")\n",
    "sub2 = pd.read_csv(\"submission_roberta.csv\")\n",
    "sub3 = pd.read_csv(\"submission_distil.csv\")\n",
    "\n",
    "# Ensure they have the same structure\n",
    "assert list(sub1.columns) == list(sub2.columns) == list(sub3.columns), \"Column names do not match!\"\n",
    "\n",
    "# Assuming the prediction column name is 'label' (change if needed)\n",
    "prediction_column = \"target\"\n",
    "\n",
    "# Stack predictions and apply majority voting\n",
    "final_predictions = []\n",
    "for preds in zip(sub1[prediction_column], sub2[prediction_column], sub3[prediction_column]):\n",
    "    most_common = Counter(preds).most_common(1)[0][0]  # Get the most frequent prediction\n",
    "    final_predictions.append(most_common)\n",
    "\n",
    "# Create final submission dataframe\n",
    "final_submission = sub1.copy()\n",
    "final_submission[prediction_column] = final_predictions\n",
    "\n",
    "# Save to CSV\n",
    "final_submission.to_csv(\"final_submission.csv\", index=False)"
   ]
  },
  {
   "cell_type": "markdown",
   "metadata": {},
   "source": [
    "## Thank you"
   ]
  }
 ],
 "metadata": {
  "kaggle": {
   "accelerator": "gpu",
   "dataSources": [
    {
     "databundleVersionId": 869809,
     "sourceId": 17777,
     "sourceType": "competition"
    },
    {
     "datasetId": 6728886,
     "sourceId": 10835618,
     "sourceType": "datasetVersion"
    },
    {
     "modelId": 2821,
     "modelInstanceId": 4689,
     "sourceId": 6068,
     "sourceType": "modelInstanceVersion"
    }
   ],
   "dockerImageVersionId": 30886,
   "isGpuEnabled": true,
   "isInternetEnabled": true,
   "language": "python",
   "sourceType": "notebook"
  },
  "kernelspec": {
   "display_name": "Python 3 (ipykernel)",
   "language": "python",
   "name": "python3"
  },
  "language_info": {
   "codemirror_mode": {
    "name": "ipython",
    "version": 3
   },
   "file_extension": ".py",
   "mimetype": "text/x-python",
   "name": "python",
   "nbconvert_exporter": "python",
   "pygments_lexer": "ipython3",
   "version": "3.12.4"
  }
 },
 "nbformat": 4,
 "nbformat_minor": 4
}
